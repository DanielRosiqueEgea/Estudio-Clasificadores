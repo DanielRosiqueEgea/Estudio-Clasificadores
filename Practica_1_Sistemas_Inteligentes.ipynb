{
  "nbformat": 4,
  "nbformat_minor": 0,
  "metadata": {
    "colab": {
      "name": "Practica 1 Sistemas Inteligentes.ipynb",
      "provenance": [],
      "collapsed_sections": [
        "3bsi4vUpd_2K",
        "Pe-Iq0eufBKl",
        "8NrBRA7mfGGN",
        "xj-yYQN9e84l",
        "rkEPyK8KgM1e",
        "r0QvaMrigTxQ"
      ],
      "authorship_tag": "ABX9TyOj/FaQQ04uBnogOWMaIoV1",
      "include_colab_link": true
    },
    "kernelspec": {
      "name": "python3",
      "display_name": "Python 3"
    },
    "language_info": {
      "name": "python"
    }
  },
  "cells": [
    {
      "cell_type": "markdown",
      "metadata": {
        "id": "view-in-github",
        "colab_type": "text"
      },
      "source": [
        "<a href=\"https://colab.research.google.com/github/Roxoner44/Estudio-Clasificadores/blob/main/Practica_1_Sistemas_Inteligentes.ipynb\" target=\"_parent\"><img src=\"https://colab.research.google.com/assets/colab-badge.svg\" alt=\"Open In Colab\"/></a>"
      ]
    },
    {
      "cell_type": "markdown",
      "source": [
        "# Imprtar librerias e inicializar los datos"
      ],
      "metadata": {
        "id": "3bsi4vUpd_2K"
      }
    },
    {
      "cell_type": "code",
      "execution_count": 24,
      "metadata": {
        "id": "nzZpEbRKdOdm"
      },
      "outputs": [],
      "source": [
        "from sklearn import datasets\n",
        "from sklearn import model_selection\n",
        "from sklearn.model_selection import train_test_split\n",
        "from sklearn.neighbors import KNeighborsClassifier #importamos k vecinos\n",
        "from sklearn.metrics import accuracy_score #funcion para obtener el % de acierto\n",
        "from sklearn.metrics import confusion_matrix,classification_report \n",
        "from sklearn.ensemble import RandomForestClassifier\n",
        "from sklearn.model_selection import GridSearchCV #para usar GridSearchCV y encontrar los mejores valores de clasificaicon\n",
        "from sklearn.tree import DecisionTreeClassifier #para el clasificador de arbol de decision\n",
        "from sklearn.svm import SVC #para el clasificador support vector machine\n",
        "from sklearn.neural_network import MLPClassifier #para el caslificador de red neuronal\n",
        "from sklearn.tree import export_graphviz\n",
        "import graphviz\n",
        "\n",
        "import numpy as np\n",
        "import pandas as pd\n",
        "from sklearn import preprocessing\n",
        "\n",
        "\n",
        "\n",
        "\n",
        "iris = datasets.load_iris()\n",
        "x = iris.data #4 aracteristicas\n",
        "t = iris.target #0,1,2\n",
        "\n",
        "tam_test = 0.3 # cogemos el 30% para tests\n",
        "semilla = 7 #seed rand\n",
        "xe,xt,te,tt = model_selection.train_test_split(x,t,test_size=tam_test,random_state=semilla)\n",
        "\n",
        "# tt taget pruebas test\n",
        "# xt muestras test\n",
        "# xe muestras para entrenar\n",
        "# te target muestras entrenamiento"
      ]
    },
    {
      "cell_type": "markdown",
      "source": [
        "# Ejercicio 1"
      ],
      "metadata": {
        "id": "NPWH9yRlepOd"
      }
    },
    {
      "cell_type": "markdown",
      "source": [
        "## KVecinos"
      ],
      "metadata": {
        "id": "vWHJ10udeRu6"
      }
    },
    {
      "cell_type": "code",
      "source": [
        "for i in range(5,10):\n",
        "  clasificador = KNeighborsClassifier(i)\n",
        "  #prediccion\n",
        "  clasificador.fit(xe,te)\n",
        "  obtenido = clasificador.predict(xt)\n",
        "  print('\\nclasificacion %.4f' % accuracy_score(tt,obtenido))\n",
        "  matriz_de_confusion=confusion_matrix(tt,obtenido)\n",
        "  print('Matriz confusion con k=%d:\\n'%i ,matriz_de_confusion)"
      ],
      "metadata": {
        "colab": {
          "base_uri": "https://localhost:8080/"
        },
        "id": "qH_lpSSRei_V",
        "outputId": "29295b46-698c-4076-a75e-dd78997d183b"
      },
      "execution_count": 25,
      "outputs": [
        {
          "output_type": "stream",
          "name": "stdout",
          "text": [
            "\n",
            "clasificacion 0.9111\n",
            "Matriz confusion con k=5:\n",
            " [[12  0  0]\n",
            " [ 0 15  1]\n",
            " [ 0  3 14]]\n",
            "\n",
            "clasificacion 0.9111\n",
            "Matriz confusion con k=6:\n",
            " [[12  0  0]\n",
            " [ 0 15  1]\n",
            " [ 0  3 14]]\n",
            "\n",
            "clasificacion 0.9333\n",
            "Matriz confusion con k=7:\n",
            " [[12  0  0]\n",
            " [ 0 15  1]\n",
            " [ 0  2 15]]\n",
            "\n",
            "clasificacion 0.9111\n",
            "Matriz confusion con k=8:\n",
            " [[12  0  0]\n",
            " [ 0 15  1]\n",
            " [ 0  3 14]]\n",
            "\n",
            "clasificacion 0.9111\n",
            "Matriz confusion con k=9:\n",
            " [[12  0  0]\n",
            " [ 0 14  2]\n",
            " [ 0  2 15]]\n"
          ]
        }
      ]
    },
    {
      "cell_type": "markdown",
      "source": [
        "# Ejercicio 2"
      ],
      "metadata": {
        "id": "8B_l5DUPenxH"
      }
    },
    {
      "cell_type": "markdown",
      "source": [
        "## SVC"
      ],
      "metadata": {
        "id": "Pe-Iq0eufBKl"
      }
    },
    {
      "cell_type": "code",
      "source": [
        "for i in range(1,6):\n",
        "  clasificador = SVC(C=i)\n",
        "  #prediccion\n",
        "  clasificador.fit(xe,te)\n",
        "  obtenido = clasificador.predict(xt)\n",
        "  print('\\nclasificacion %.4f' % accuracy_score(tt,obtenido))\n",
        "  matriz_de_confusion=confusion_matrix(tt,obtenido)\n",
        "  print('Matriz confusion con C=%d:\\n'%i ,matriz_de_confusion)"
      ],
      "metadata": {
        "colab": {
          "base_uri": "https://localhost:8080/"
        },
        "id": "s4iKZachfIMd",
        "outputId": "199ef935-2d55-4474-9928-bd9ddb3cf975"
      },
      "execution_count": 27,
      "outputs": [
        {
          "output_type": "stream",
          "name": "stdout",
          "text": [
            "\n",
            "clasificacion 0.8889\n",
            "Matriz confusion con C=1:\n",
            " [[12  0  0]\n",
            " [ 0 15  1]\n",
            " [ 0  4 13]]\n",
            "\n",
            "clasificacion 0.9333\n",
            "Matriz confusion con C=2:\n",
            " [[12  0  0]\n",
            " [ 0 14  2]\n",
            " [ 0  1 16]]\n",
            "\n",
            "clasificacion 0.9333\n",
            "Matriz confusion con C=3:\n",
            " [[12  0  0]\n",
            " [ 0 14  2]\n",
            " [ 0  1 16]]\n",
            "\n",
            "clasificacion 0.9333\n",
            "Matriz confusion con C=4:\n",
            " [[12  0  0]\n",
            " [ 0 14  2]\n",
            " [ 0  1 16]]\n",
            "\n",
            "clasificacion 0.9556\n",
            "Matriz confusion con C=5:\n",
            " [[12  0  0]\n",
            " [ 0 14  2]\n",
            " [ 0  0 17]]\n"
          ]
        }
      ]
    },
    {
      "cell_type": "markdown",
      "source": [
        "## MLP"
      ],
      "metadata": {
        "id": "8NrBRA7mfGGN"
      }
    },
    {
      "cell_type": "code",
      "source": [
        "clasificador = MLPClassifier()\n",
        "#prediccion\n",
        "clasificador.fit(xe,te)\n",
        "obtenido = clasificador.predict(xt)\n",
        "print('\\nclasificacion %.4f' % accuracy_score(tt,obtenido))\n",
        "matriz_de_confusion=confusion_matrix(tt,obtenido)\n",
        "print('Matriz confusion:\\n' ,matriz_de_confusion)"
      ],
      "metadata": {
        "colab": {
          "base_uri": "https://localhost:8080/"
        },
        "id": "UMhCuEI_fJ6F",
        "outputId": "0e8a91a8-26aa-4114-cfb7-0d37dfc9cc7e"
      },
      "execution_count": 28,
      "outputs": [
        {
          "output_type": "stream",
          "name": "stdout",
          "text": [
            "\n",
            "clasificacion 0.9556\n",
            "Matriz confusion:\n",
            " [[12  0  0]\n",
            " [ 0 14  2]\n",
            " [ 0  0 17]]\n"
          ]
        },
        {
          "output_type": "stream",
          "name": "stderr",
          "text": [
            "/usr/local/lib/python3.7/dist-packages/sklearn/neural_network/_multilayer_perceptron.py:696: ConvergenceWarning: Stochastic Optimizer: Maximum iterations (200) reached and the optimization hasn't converged yet.\n",
            "  ConvergenceWarning,\n"
          ]
        }
      ]
    },
    {
      "cell_type": "markdown",
      "source": [
        "## Arbol de Decisión"
      ],
      "metadata": {
        "id": "xj-yYQN9e84l"
      }
    },
    {
      "cell_type": "code",
      "source": [
        "for i in range(0,5):\n",
        "  clasificador = DecisionTreeClassifier(random_state=i)\n",
        "  #prediccion\n",
        "  clasificador.fit(xe,te)\n",
        "  obtenido = clasificador.predict(xt)\n",
        "  print('\\nclasificacion %.4f' % accuracy_score(tt,obtenido))\n",
        "  matriz_de_confusion=confusion_matrix(tt,obtenido)\n",
        "  print('Matriz confusion con random_state=%d:\\n'%i ,matriz_de_confusion)"
      ],
      "metadata": {
        "colab": {
          "base_uri": "https://localhost:8080/"
        },
        "id": "aPSkm19Bew4P",
        "outputId": "49564b8c-7aa4-476b-c6fc-cffc977e190c"
      },
      "execution_count": 29,
      "outputs": [
        {
          "output_type": "stream",
          "name": "stdout",
          "text": [
            "\n",
            "clasificacion 0.8889\n",
            "Matriz confusion con random_state=0:\n",
            " [[12  0  0]\n",
            " [ 0 14  2]\n",
            " [ 0  3 14]]\n",
            "\n",
            "clasificacion 0.9111\n",
            "Matriz confusion con random_state=1:\n",
            " [[12  0  0]\n",
            " [ 0 14  2]\n",
            " [ 0  2 15]]\n",
            "\n",
            "clasificacion 0.8667\n",
            "Matriz confusion con random_state=2:\n",
            " [[12  0  0]\n",
            " [ 0 12  4]\n",
            " [ 0  2 15]]\n",
            "\n",
            "clasificacion 0.9111\n",
            "Matriz confusion con random_state=3:\n",
            " [[12  0  0]\n",
            " [ 0 14  2]\n",
            " [ 0  2 15]]\n",
            "\n",
            "clasificacion 0.9111\n",
            "Matriz confusion con random_state=4:\n",
            " [[12  0  0]\n",
            " [ 0 14  2]\n",
            " [ 0  2 15]]\n"
          ]
        }
      ]
    },
    {
      "cell_type": "markdown",
      "source": [
        "# Ejercicio 3"
      ],
      "metadata": {
        "id": "lREyelTyfPeN"
      }
    },
    {
      "cell_type": "code",
      "source": [
        "graphviz.Source(export_graphviz(clasificador, feature_names=iris.feature_names))"
      ],
      "metadata": {
        "colab": {
          "base_uri": "https://localhost:8080/",
          "height": 796
        },
        "id": "WYzvhMdffUGG",
        "outputId": "d28e88ad-8ebb-4d08-a41d-7ab41bd01516"
      },
      "execution_count": 30,
      "outputs": [
        {
          "output_type": "execute_result",
          "data": {
            "text/plain": [
              "<graphviz.files.Source at 0x7ff9d0914850>"
            ],
            "image/svg+xml": "<?xml version=\"1.0\" encoding=\"UTF-8\" standalone=\"no\"?>\n<!DOCTYPE svg PUBLIC \"-//W3C//DTD SVG 1.1//EN\"\n \"http://www.w3.org/Graphics/SVG/1.1/DTD/svg11.dtd\">\n<!-- Generated by graphviz version 2.40.1 (20161225.0304)\n -->\n<!-- Title: Tree Pages: 1 -->\n<svg width=\"458pt\" height=\"581pt\"\n viewBox=\"0.00 0.00 458.00 581.00\" xmlns=\"http://www.w3.org/2000/svg\" xmlns:xlink=\"http://www.w3.org/1999/xlink\">\n<g id=\"graph0\" class=\"graph\" transform=\"scale(1 1) rotate(0) translate(4 577)\">\n<title>Tree</title>\n<polygon fill=\"#ffffff\" stroke=\"transparent\" points=\"-4,4 -4,-577 454,-577 454,4 -4,4\"/>\n<!-- 0 -->\n<g id=\"node1\" class=\"node\">\n<title>0</title>\n<polygon fill=\"none\" stroke=\"#000000\" points=\"231.5,-573 55.5,-573 55.5,-505 231.5,-505 231.5,-573\"/>\n<text text-anchor=\"middle\" x=\"143.5\" y=\"-557.8\" font-family=\"Helvetica,sans-Serif\" font-size=\"14.00\" fill=\"#000000\">petal length (cm) &lt;= 2.45</text>\n<text text-anchor=\"middle\" x=\"143.5\" y=\"-542.8\" font-family=\"Helvetica,sans-Serif\" font-size=\"14.00\" fill=\"#000000\">gini = 0.665</text>\n<text text-anchor=\"middle\" x=\"143.5\" y=\"-527.8\" font-family=\"Helvetica,sans-Serif\" font-size=\"14.00\" fill=\"#000000\">samples = 105</text>\n<text text-anchor=\"middle\" x=\"143.5\" y=\"-512.8\" font-family=\"Helvetica,sans-Serif\" font-size=\"14.00\" fill=\"#000000\">value = [38, 34, 33]</text>\n</g>\n<!-- 1 -->\n<g id=\"node2\" class=\"node\">\n<title>1</title>\n<polygon fill=\"none\" stroke=\"#000000\" points=\"123,-461.5 0,-461.5 0,-408.5 123,-408.5 123,-461.5\"/>\n<text text-anchor=\"middle\" x=\"61.5\" y=\"-446.3\" font-family=\"Helvetica,sans-Serif\" font-size=\"14.00\" fill=\"#000000\">gini = 0.0</text>\n<text text-anchor=\"middle\" x=\"61.5\" y=\"-431.3\" font-family=\"Helvetica,sans-Serif\" font-size=\"14.00\" fill=\"#000000\">samples = 38</text>\n<text text-anchor=\"middle\" x=\"61.5\" y=\"-416.3\" font-family=\"Helvetica,sans-Serif\" font-size=\"14.00\" fill=\"#000000\">value = [38, 0, 0]</text>\n</g>\n<!-- 0&#45;&gt;1 -->\n<g id=\"edge1\" class=\"edge\">\n<title>0&#45;&gt;1</title>\n<path fill=\"none\" stroke=\"#000000\" d=\"M116.6501,-504.9465C107.7048,-493.6012 97.7351,-480.9567 88.759,-469.5724\"/>\n<polygon fill=\"#000000\" stroke=\"#000000\" points=\"91.3675,-467.2278 82.4275,-461.5422 85.8706,-471.5619 91.3675,-467.2278\"/>\n<text text-anchor=\"middle\" x=\"79.491\" y=\"-482.6691\" font-family=\"Helvetica,sans-Serif\" font-size=\"14.00\" fill=\"#000000\">True</text>\n</g>\n<!-- 2 -->\n<g id=\"node3\" class=\"node\">\n<title>2</title>\n<polygon fill=\"none\" stroke=\"#000000\" points=\"309.5,-469 141.5,-469 141.5,-401 309.5,-401 309.5,-469\"/>\n<text text-anchor=\"middle\" x=\"225.5\" y=\"-453.8\" font-family=\"Helvetica,sans-Serif\" font-size=\"14.00\" fill=\"#000000\">petal length (cm) &lt;= 4.8</text>\n<text text-anchor=\"middle\" x=\"225.5\" y=\"-438.8\" font-family=\"Helvetica,sans-Serif\" font-size=\"14.00\" fill=\"#000000\">gini = 0.5</text>\n<text text-anchor=\"middle\" x=\"225.5\" y=\"-423.8\" font-family=\"Helvetica,sans-Serif\" font-size=\"14.00\" fill=\"#000000\">samples = 67</text>\n<text text-anchor=\"middle\" x=\"225.5\" y=\"-408.8\" font-family=\"Helvetica,sans-Serif\" font-size=\"14.00\" fill=\"#000000\">value = [0, 34, 33]</text>\n</g>\n<!-- 0&#45;&gt;2 -->\n<g id=\"edge2\" class=\"edge\">\n<title>0&#45;&gt;2</title>\n<path fill=\"none\" stroke=\"#000000\" d=\"M170.3499,-504.9465C177.3583,-496.0578 184.9955,-486.3716 192.291,-477.1188\"/>\n<polygon fill=\"#000000\" stroke=\"#000000\" points=\"195.1467,-479.1498 198.5898,-469.13 189.6498,-474.8157 195.1467,-479.1498\"/>\n<text text-anchor=\"middle\" x=\"201.5263\" y=\"-490.2569\" font-family=\"Helvetica,sans-Serif\" font-size=\"14.00\" fill=\"#000000\">False</text>\n</g>\n<!-- 3 -->\n<g id=\"node4\" class=\"node\">\n<title>3</title>\n<polygon fill=\"none\" stroke=\"#000000\" points=\"207,-357.5 84,-357.5 84,-304.5 207,-304.5 207,-357.5\"/>\n<text text-anchor=\"middle\" x=\"145.5\" y=\"-342.3\" font-family=\"Helvetica,sans-Serif\" font-size=\"14.00\" fill=\"#000000\">gini = 0.0</text>\n<text text-anchor=\"middle\" x=\"145.5\" y=\"-327.3\" font-family=\"Helvetica,sans-Serif\" font-size=\"14.00\" fill=\"#000000\">samples = 32</text>\n<text text-anchor=\"middle\" x=\"145.5\" y=\"-312.3\" font-family=\"Helvetica,sans-Serif\" font-size=\"14.00\" fill=\"#000000\">value = [0, 32, 0]</text>\n</g>\n<!-- 2&#45;&gt;3 -->\n<g id=\"edge3\" class=\"edge\">\n<title>2&#45;&gt;3</title>\n<path fill=\"none\" stroke=\"#000000\" d=\"M199.305,-400.9465C190.5778,-389.6012 180.8513,-376.9567 172.0941,-365.5724\"/>\n<polygon fill=\"#000000\" stroke=\"#000000\" points=\"174.7884,-363.3344 165.917,-357.5422 169.24,-367.6024 174.7884,-363.3344\"/>\n</g>\n<!-- 4 -->\n<g id=\"node5\" class=\"node\">\n<title>4</title>\n<polygon fill=\"none\" stroke=\"#000000\" points=\"387.5,-365 225.5,-365 225.5,-297 387.5,-297 387.5,-365\"/>\n<text text-anchor=\"middle\" x=\"306.5\" y=\"-349.8\" font-family=\"Helvetica,sans-Serif\" font-size=\"14.00\" fill=\"#000000\">petal width (cm) &lt;= 1.7</text>\n<text text-anchor=\"middle\" x=\"306.5\" y=\"-334.8\" font-family=\"Helvetica,sans-Serif\" font-size=\"14.00\" fill=\"#000000\">gini = 0.108</text>\n<text text-anchor=\"middle\" x=\"306.5\" y=\"-319.8\" font-family=\"Helvetica,sans-Serif\" font-size=\"14.00\" fill=\"#000000\">samples = 35</text>\n<text text-anchor=\"middle\" x=\"306.5\" y=\"-304.8\" font-family=\"Helvetica,sans-Serif\" font-size=\"14.00\" fill=\"#000000\">value = [0, 2, 33]</text>\n</g>\n<!-- 2&#45;&gt;4 -->\n<g id=\"edge4\" class=\"edge\">\n<title>2&#45;&gt;4</title>\n<path fill=\"none\" stroke=\"#000000\" d=\"M252.0224,-400.9465C258.9454,-392.0578 266.4894,-382.3716 273.696,-373.1188\"/>\n<polygon fill=\"#000000\" stroke=\"#000000\" points=\"276.5346,-375.1701 279.918,-365.13 271.012,-370.8688 276.5346,-375.1701\"/>\n</g>\n<!-- 5 -->\n<g id=\"node6\" class=\"node\">\n<title>5</title>\n<polygon fill=\"none\" stroke=\"#000000\" points=\"308.5,-261 140.5,-261 140.5,-193 308.5,-193 308.5,-261\"/>\n<text text-anchor=\"middle\" x=\"224.5\" y=\"-245.8\" font-family=\"Helvetica,sans-Serif\" font-size=\"14.00\" fill=\"#000000\">petal length (cm) &lt;= 5.0</text>\n<text text-anchor=\"middle\" x=\"224.5\" y=\"-230.8\" font-family=\"Helvetica,sans-Serif\" font-size=\"14.00\" fill=\"#000000\">gini = 0.5</text>\n<text text-anchor=\"middle\" x=\"224.5\" y=\"-215.8\" font-family=\"Helvetica,sans-Serif\" font-size=\"14.00\" fill=\"#000000\">samples = 4</text>\n<text text-anchor=\"middle\" x=\"224.5\" y=\"-200.8\" font-family=\"Helvetica,sans-Serif\" font-size=\"14.00\" fill=\"#000000\">value = [0, 2, 2]</text>\n</g>\n<!-- 4&#45;&gt;5 -->\n<g id=\"edge5\" class=\"edge\">\n<title>4&#45;&gt;5</title>\n<path fill=\"none\" stroke=\"#000000\" d=\"M279.6501,-296.9465C272.6417,-288.0578 265.0045,-278.3716 257.709,-269.1188\"/>\n<polygon fill=\"#000000\" stroke=\"#000000\" points=\"260.3502,-266.8157 251.4102,-261.13 254.8533,-271.1498 260.3502,-266.8157\"/>\n</g>\n<!-- 10 -->\n<g id=\"node11\" class=\"node\">\n<title>10</title>\n<polygon fill=\"none\" stroke=\"#000000\" points=\"450,-253.5 327,-253.5 327,-200.5 450,-200.5 450,-253.5\"/>\n<text text-anchor=\"middle\" x=\"388.5\" y=\"-238.3\" font-family=\"Helvetica,sans-Serif\" font-size=\"14.00\" fill=\"#000000\">gini = 0.0</text>\n<text text-anchor=\"middle\" x=\"388.5\" y=\"-223.3\" font-family=\"Helvetica,sans-Serif\" font-size=\"14.00\" fill=\"#000000\">samples = 31</text>\n<text text-anchor=\"middle\" x=\"388.5\" y=\"-208.3\" font-family=\"Helvetica,sans-Serif\" font-size=\"14.00\" fill=\"#000000\">value = [0, 0, 31]</text>\n</g>\n<!-- 4&#45;&gt;10 -->\n<g id=\"edge10\" class=\"edge\">\n<title>4&#45;&gt;10</title>\n<path fill=\"none\" stroke=\"#000000\" d=\"M333.3499,-296.9465C342.2952,-285.6012 352.2649,-272.9567 361.241,-261.5724\"/>\n<polygon fill=\"#000000\" stroke=\"#000000\" points=\"364.1294,-263.5619 367.5725,-253.5422 358.6325,-259.2278 364.1294,-263.5619\"/>\n</g>\n<!-- 6 -->\n<g id=\"node7\" class=\"node\">\n<title>6</title>\n<polygon fill=\"none\" stroke=\"#000000\" points=\"199,-149.5 84,-149.5 84,-96.5 199,-96.5 199,-149.5\"/>\n<text text-anchor=\"middle\" x=\"141.5\" y=\"-134.3\" font-family=\"Helvetica,sans-Serif\" font-size=\"14.00\" fill=\"#000000\">gini = 0.0</text>\n<text text-anchor=\"middle\" x=\"141.5\" y=\"-119.3\" font-family=\"Helvetica,sans-Serif\" font-size=\"14.00\" fill=\"#000000\">samples = 1</text>\n<text text-anchor=\"middle\" x=\"141.5\" y=\"-104.3\" font-family=\"Helvetica,sans-Serif\" font-size=\"14.00\" fill=\"#000000\">value = [0, 1, 0]</text>\n</g>\n<!-- 5&#45;&gt;6 -->\n<g id=\"edge6\" class=\"edge\">\n<title>5&#45;&gt;6</title>\n<path fill=\"none\" stroke=\"#000000\" d=\"M197.3227,-192.9465C188.2682,-181.6012 178.177,-168.9567 169.0914,-157.5724\"/>\n<polygon fill=\"#000000\" stroke=\"#000000\" points=\"171.6561,-155.175 162.6827,-149.5422 166.1849,-159.5414 171.6561,-155.175\"/>\n</g>\n<!-- 7 -->\n<g id=\"node8\" class=\"node\">\n<title>7</title>\n<polygon fill=\"none\" stroke=\"#000000\" points=\"397.5,-157 217.5,-157 217.5,-89 397.5,-89 397.5,-157\"/>\n<text text-anchor=\"middle\" x=\"307.5\" y=\"-141.8\" font-family=\"Helvetica,sans-Serif\" font-size=\"14.00\" fill=\"#000000\">sepal length (cm) &lt;= 6.05</text>\n<text text-anchor=\"middle\" x=\"307.5\" y=\"-126.8\" font-family=\"Helvetica,sans-Serif\" font-size=\"14.00\" fill=\"#000000\">gini = 0.444</text>\n<text text-anchor=\"middle\" x=\"307.5\" y=\"-111.8\" font-family=\"Helvetica,sans-Serif\" font-size=\"14.00\" fill=\"#000000\">samples = 3</text>\n<text text-anchor=\"middle\" x=\"307.5\" y=\"-96.8\" font-family=\"Helvetica,sans-Serif\" font-size=\"14.00\" fill=\"#000000\">value = [0, 1, 2]</text>\n</g>\n<!-- 5&#45;&gt;7 -->\n<g id=\"edge7\" class=\"edge\">\n<title>5&#45;&gt;7</title>\n<path fill=\"none\" stroke=\"#000000\" d=\"M251.6773,-192.9465C258.7712,-184.0578 266.5015,-174.3716 273.886,-165.1188\"/>\n<polygon fill=\"#000000\" stroke=\"#000000\" points=\"276.7594,-167.1293 280.2616,-157.13 271.2882,-162.7628 276.7594,-167.1293\"/>\n</g>\n<!-- 8 -->\n<g id=\"node9\" class=\"node\">\n<title>8</title>\n<polygon fill=\"none\" stroke=\"#000000\" points=\"298,-53 183,-53 183,0 298,0 298,-53\"/>\n<text text-anchor=\"middle\" x=\"240.5\" y=\"-37.8\" font-family=\"Helvetica,sans-Serif\" font-size=\"14.00\" fill=\"#000000\">gini = 0.0</text>\n<text text-anchor=\"middle\" x=\"240.5\" y=\"-22.8\" font-family=\"Helvetica,sans-Serif\" font-size=\"14.00\" fill=\"#000000\">samples = 1</text>\n<text text-anchor=\"middle\" x=\"240.5\" y=\"-7.8\" font-family=\"Helvetica,sans-Serif\" font-size=\"14.00\" fill=\"#000000\">value = [0, 1, 0]</text>\n</g>\n<!-- 7&#45;&gt;8 -->\n<g id=\"edge8\" class=\"edge\">\n<title>7&#45;&gt;8</title>\n<path fill=\"none\" stroke=\"#000000\" d=\"M283.8783,-88.9777C277.7113,-80.0954 271.0539,-70.5067 264.8499,-61.5711\"/>\n<polygon fill=\"#000000\" stroke=\"#000000\" points=\"267.6497,-59.4666 259.0715,-53.2485 261.8997,-63.4589 267.6497,-59.4666\"/>\n</g>\n<!-- 9 -->\n<g id=\"node10\" class=\"node\">\n<title>9</title>\n<polygon fill=\"none\" stroke=\"#000000\" points=\"431,-53 316,-53 316,0 431,0 431,-53\"/>\n<text text-anchor=\"middle\" x=\"373.5\" y=\"-37.8\" font-family=\"Helvetica,sans-Serif\" font-size=\"14.00\" fill=\"#000000\">gini = 0.0</text>\n<text text-anchor=\"middle\" x=\"373.5\" y=\"-22.8\" font-family=\"Helvetica,sans-Serif\" font-size=\"14.00\" fill=\"#000000\">samples = 2</text>\n<text text-anchor=\"middle\" x=\"373.5\" y=\"-7.8\" font-family=\"Helvetica,sans-Serif\" font-size=\"14.00\" fill=\"#000000\">value = [0, 0, 2]</text>\n</g>\n<!-- 7&#45;&gt;9 -->\n<g id=\"edge9\" class=\"edge\">\n<title>7&#45;&gt;9</title>\n<path fill=\"none\" stroke=\"#000000\" d=\"M330.7691,-88.9777C336.844,-80.0954 343.4021,-70.5067 349.5135,-61.5711\"/>\n<polygon fill=\"#000000\" stroke=\"#000000\" points=\"352.4493,-63.4785 355.2057,-53.2485 346.6714,-59.5267 352.4493,-63.4785\"/>\n</g>\n</g>\n</svg>\n"
          },
          "metadata": {},
          "execution_count": 30
        }
      ]
    },
    {
      "cell_type": "markdown",
      "source": [
        "Calculamos importancia de las variables"
      ],
      "metadata": {
        "id": "bOrKDBm7fX4f"
      }
    },
    {
      "cell_type": "code",
      "source": [
        "importances = pd.DataFrame({'feature':iris.feature_names,'importance':np.round(\n",
        "clasificador.feature_importances_,4)})\n",
        "importances = importances.sort_values('importance',ascending=False)\n",
        "print(importances)"
      ],
      "metadata": {
        "colab": {
          "base_uri": "https://localhost:8080/"
        },
        "id": "ylGyuNptfVUE",
        "outputId": "6ba0ec45-cba2-4921-9202-f21bb547ffb6"
      },
      "execution_count": 31,
      "outputs": [
        {
          "output_type": "stream",
          "name": "stdout",
          "text": [
            "             feature  importance\n",
            "2  petal length (cm)      0.9556\n",
            "3   petal width (cm)      0.0254\n",
            "0  sepal length (cm)      0.0191\n",
            "1   sepal width (cm)      0.0000\n"
          ]
        }
      ]
    },
    {
      "cell_type": "markdown",
      "source": [
        "# Ejercicio 4"
      ],
      "metadata": {
        "id": "ec7WJVrkf7pc"
      }
    },
    {
      "cell_type": "code",
      "source": [
        "cancer = datasets.load_breast_cancer()\n",
        "\n",
        "print(cancer.feature_names)\n",
        "\n",
        "x=cancer.data\n",
        "t=cancer.target\n",
        "\n",
        "\n",
        "x_norm=preprocessing.scale(x)\n",
        "tam_test = 0.3 # cogemos el 30% para tests\n",
        "semilla = 7 #seed rand\n",
        "xe,xt,te,tt = model_selection.train_test_split(x_norm,t,test_size=tam_test,random_state=semilla)"
      ],
      "metadata": {
        "colab": {
          "base_uri": "https://localhost:8080/"
        },
        "id": "hi2FuMGOgIvt",
        "outputId": "f05f0332-b06f-4a77-adec-945e8b6bfa1e"
      },
      "execution_count": 32,
      "outputs": [
        {
          "output_type": "stream",
          "name": "stdout",
          "text": [
            "['mean radius' 'mean texture' 'mean perimeter' 'mean area'\n",
            " 'mean smoothness' 'mean compactness' 'mean concavity'\n",
            " 'mean concave points' 'mean symmetry' 'mean fractal dimension'\n",
            " 'radius error' 'texture error' 'perimeter error' 'area error'\n",
            " 'smoothness error' 'compactness error' 'concavity error'\n",
            " 'concave points error' 'symmetry error' 'fractal dimension error'\n",
            " 'worst radius' 'worst texture' 'worst perimeter' 'worst area'\n",
            " 'worst smoothness' 'worst compactness' 'worst concavity'\n",
            " 'worst concave points' 'worst symmetry' 'worst fractal dimension']\n"
          ]
        }
      ]
    },
    {
      "cell_type": "markdown",
      "source": [
        "## KNeighbors"
      ],
      "metadata": {
        "id": "rkEPyK8KgM1e"
      }
    },
    {
      "cell_type": "code",
      "source": [
        "media =0\n",
        "for i in range(1,10):\n",
        "  clasificador = KNeighborsClassifier()\n",
        "  #prediccion\n",
        "  clasificador.fit(xe,te)\n",
        "  obtenido = clasificador.predict(xt)\n",
        "  media+=accuracy_score(tt,obtenido)\n",
        "  print('\\nclasificacion %.4f' % accuracy_score(tt,obtenido))\n",
        "  print(classification_report(tt,obtenido))\n",
        "  matriz_de_confusion=confusion_matrix(tt,obtenido)\n",
        "  print('Matriz confusion con k=%d:\\n'%i ,matriz_de_confusion)\n",
        "print('\\nMEDIA OBTENIDA :', media/9)\n"
      ],
      "metadata": {
        "colab": {
          "base_uri": "https://localhost:8080/"
        },
        "id": "0OrRk0a-gOu9",
        "outputId": "62761243-75e5-4780-a9b8-84f6539fef33"
      },
      "execution_count": 33,
      "outputs": [
        {
          "output_type": "stream",
          "name": "stdout",
          "text": [
            "\n",
            "clasificacion 0.9591\n",
            "              precision    recall  f1-score   support\n",
            "\n",
            "           0       1.00      0.87      0.93        55\n",
            "           1       0.94      1.00      0.97       116\n",
            "\n",
            "    accuracy                           0.96       171\n",
            "   macro avg       0.97      0.94      0.95       171\n",
            "weighted avg       0.96      0.96      0.96       171\n",
            "\n",
            "Matriz confusion con k=1:\n",
            " [[ 48   7]\n",
            " [  0 116]]\n",
            "\n",
            "clasificacion 0.9591\n",
            "              precision    recall  f1-score   support\n",
            "\n",
            "           0       1.00      0.87      0.93        55\n",
            "           1       0.94      1.00      0.97       116\n",
            "\n",
            "    accuracy                           0.96       171\n",
            "   macro avg       0.97      0.94      0.95       171\n",
            "weighted avg       0.96      0.96      0.96       171\n",
            "\n",
            "Matriz confusion con k=2:\n",
            " [[ 48   7]\n",
            " [  0 116]]\n",
            "\n",
            "clasificacion 0.9591\n",
            "              precision    recall  f1-score   support\n",
            "\n",
            "           0       1.00      0.87      0.93        55\n",
            "           1       0.94      1.00      0.97       116\n",
            "\n",
            "    accuracy                           0.96       171\n",
            "   macro avg       0.97      0.94      0.95       171\n",
            "weighted avg       0.96      0.96      0.96       171\n",
            "\n",
            "Matriz confusion con k=3:\n",
            " [[ 48   7]\n",
            " [  0 116]]\n",
            "\n",
            "clasificacion 0.9591\n",
            "              precision    recall  f1-score   support\n",
            "\n",
            "           0       1.00      0.87      0.93        55\n",
            "           1       0.94      1.00      0.97       116\n",
            "\n",
            "    accuracy                           0.96       171\n",
            "   macro avg       0.97      0.94      0.95       171\n",
            "weighted avg       0.96      0.96      0.96       171\n",
            "\n",
            "Matriz confusion con k=4:\n",
            " [[ 48   7]\n",
            " [  0 116]]\n",
            "\n",
            "clasificacion 0.9591\n",
            "              precision    recall  f1-score   support\n",
            "\n",
            "           0       1.00      0.87      0.93        55\n",
            "           1       0.94      1.00      0.97       116\n",
            "\n",
            "    accuracy                           0.96       171\n",
            "   macro avg       0.97      0.94      0.95       171\n",
            "weighted avg       0.96      0.96      0.96       171\n",
            "\n",
            "Matriz confusion con k=5:\n",
            " [[ 48   7]\n",
            " [  0 116]]\n",
            "\n",
            "clasificacion 0.9591\n",
            "              precision    recall  f1-score   support\n",
            "\n",
            "           0       1.00      0.87      0.93        55\n",
            "           1       0.94      1.00      0.97       116\n",
            "\n",
            "    accuracy                           0.96       171\n",
            "   macro avg       0.97      0.94      0.95       171\n",
            "weighted avg       0.96      0.96      0.96       171\n",
            "\n",
            "Matriz confusion con k=6:\n",
            " [[ 48   7]\n",
            " [  0 116]]\n",
            "\n",
            "clasificacion 0.9591\n",
            "              precision    recall  f1-score   support\n",
            "\n",
            "           0       1.00      0.87      0.93        55\n",
            "           1       0.94      1.00      0.97       116\n",
            "\n",
            "    accuracy                           0.96       171\n",
            "   macro avg       0.97      0.94      0.95       171\n",
            "weighted avg       0.96      0.96      0.96       171\n",
            "\n",
            "Matriz confusion con k=7:\n",
            " [[ 48   7]\n",
            " [  0 116]]\n",
            "\n",
            "clasificacion 0.9591\n",
            "              precision    recall  f1-score   support\n",
            "\n",
            "           0       1.00      0.87      0.93        55\n",
            "           1       0.94      1.00      0.97       116\n",
            "\n",
            "    accuracy                           0.96       171\n",
            "   macro avg       0.97      0.94      0.95       171\n",
            "weighted avg       0.96      0.96      0.96       171\n",
            "\n",
            "Matriz confusion con k=8:\n",
            " [[ 48   7]\n",
            " [  0 116]]\n",
            "\n",
            "clasificacion 0.9591\n",
            "              precision    recall  f1-score   support\n",
            "\n",
            "           0       1.00      0.87      0.93        55\n",
            "           1       0.94      1.00      0.97       116\n",
            "\n",
            "    accuracy                           0.96       171\n",
            "   macro avg       0.97      0.94      0.95       171\n",
            "weighted avg       0.96      0.96      0.96       171\n",
            "\n",
            "Matriz confusion con k=9:\n",
            " [[ 48   7]\n",
            " [  0 116]]\n",
            "\n",
            "MEDIA OBTENIDA : 0.95906432748538\n"
          ]
        }
      ]
    },
    {
      "cell_type": "markdown",
      "source": [
        "## SVC"
      ],
      "metadata": {
        "id": "r0QvaMrigTxQ"
      }
    },
    {
      "cell_type": "code",
      "source": [
        "media =0\n",
        "for i in range(1,10):\n",
        "  clasificador = SVC()\n",
        "  #prediccion\n",
        "  clasificador.fit(xe,te)\n",
        "  obtenido = clasificador.predict(xt)\n",
        "  media+=accuracy_score(tt,obtenido)\n",
        "  print('\\nclasificacion %.4f' % accuracy_score(tt,obtenido))\n",
        "  print(classification_report(tt,obtenido))\n",
        "  matriz_de_confusion=confusion_matrix(tt,obtenido)\n",
        "  print('Matriz Confusión:\\n',matriz_de_confusion)\n",
        "print('\\nMEDIA OBTENIDA :', media/9)"
      ],
      "metadata": {
        "colab": {
          "base_uri": "https://localhost:8080/"
        },
        "id": "6uAT74l-gWDd",
        "outputId": "4a453b18-8d82-4d42-90a0-a77ac1bfc979"
      },
      "execution_count": 34,
      "outputs": [
        {
          "output_type": "stream",
          "name": "stdout",
          "text": [
            "\n",
            "clasificacion 0.9766\n",
            "              precision    recall  f1-score   support\n",
            "\n",
            "           0       1.00      0.93      0.96        55\n",
            "           1       0.97      1.00      0.98       116\n",
            "\n",
            "    accuracy                           0.98       171\n",
            "   macro avg       0.98      0.96      0.97       171\n",
            "weighted avg       0.98      0.98      0.98       171\n",
            "\n",
            "Matriz Confusión:\n",
            " [[ 51   4]\n",
            " [  0 116]]\n",
            "\n",
            "clasificacion 0.9766\n",
            "              precision    recall  f1-score   support\n",
            "\n",
            "           0       1.00      0.93      0.96        55\n",
            "           1       0.97      1.00      0.98       116\n",
            "\n",
            "    accuracy                           0.98       171\n",
            "   macro avg       0.98      0.96      0.97       171\n",
            "weighted avg       0.98      0.98      0.98       171\n",
            "\n",
            "Matriz Confusión:\n",
            " [[ 51   4]\n",
            " [  0 116]]\n",
            "\n",
            "clasificacion 0.9766\n",
            "              precision    recall  f1-score   support\n",
            "\n",
            "           0       1.00      0.93      0.96        55\n",
            "           1       0.97      1.00      0.98       116\n",
            "\n",
            "    accuracy                           0.98       171\n",
            "   macro avg       0.98      0.96      0.97       171\n",
            "weighted avg       0.98      0.98      0.98       171\n",
            "\n",
            "Matriz Confusión:\n",
            " [[ 51   4]\n",
            " [  0 116]]\n",
            "\n",
            "clasificacion 0.9766\n",
            "              precision    recall  f1-score   support\n",
            "\n",
            "           0       1.00      0.93      0.96        55\n",
            "           1       0.97      1.00      0.98       116\n",
            "\n",
            "    accuracy                           0.98       171\n",
            "   macro avg       0.98      0.96      0.97       171\n",
            "weighted avg       0.98      0.98      0.98       171\n",
            "\n",
            "Matriz Confusión:\n",
            " [[ 51   4]\n",
            " [  0 116]]\n",
            "\n",
            "clasificacion 0.9766\n",
            "              precision    recall  f1-score   support\n",
            "\n",
            "           0       1.00      0.93      0.96        55\n",
            "           1       0.97      1.00      0.98       116\n",
            "\n",
            "    accuracy                           0.98       171\n",
            "   macro avg       0.98      0.96      0.97       171\n",
            "weighted avg       0.98      0.98      0.98       171\n",
            "\n",
            "Matriz Confusión:\n",
            " [[ 51   4]\n",
            " [  0 116]]\n",
            "\n",
            "clasificacion 0.9766\n",
            "              precision    recall  f1-score   support\n",
            "\n",
            "           0       1.00      0.93      0.96        55\n",
            "           1       0.97      1.00      0.98       116\n",
            "\n",
            "    accuracy                           0.98       171\n",
            "   macro avg       0.98      0.96      0.97       171\n",
            "weighted avg       0.98      0.98      0.98       171\n",
            "\n",
            "Matriz Confusión:\n",
            " [[ 51   4]\n",
            " [  0 116]]\n",
            "\n",
            "clasificacion 0.9766\n",
            "              precision    recall  f1-score   support\n",
            "\n",
            "           0       1.00      0.93      0.96        55\n",
            "           1       0.97      1.00      0.98       116\n",
            "\n",
            "    accuracy                           0.98       171\n",
            "   macro avg       0.98      0.96      0.97       171\n",
            "weighted avg       0.98      0.98      0.98       171\n",
            "\n",
            "Matriz Confusión:\n",
            " [[ 51   4]\n",
            " [  0 116]]\n",
            "\n",
            "clasificacion 0.9766\n",
            "              precision    recall  f1-score   support\n",
            "\n",
            "           0       1.00      0.93      0.96        55\n",
            "           1       0.97      1.00      0.98       116\n",
            "\n",
            "    accuracy                           0.98       171\n",
            "   macro avg       0.98      0.96      0.97       171\n",
            "weighted avg       0.98      0.98      0.98       171\n",
            "\n",
            "Matriz Confusión:\n",
            " [[ 51   4]\n",
            " [  0 116]]\n",
            "\n",
            "clasificacion 0.9766\n",
            "              precision    recall  f1-score   support\n",
            "\n",
            "           0       1.00      0.93      0.96        55\n",
            "           1       0.97      1.00      0.98       116\n",
            "\n",
            "    accuracy                           0.98       171\n",
            "   macro avg       0.98      0.96      0.97       171\n",
            "weighted avg       0.98      0.98      0.98       171\n",
            "\n",
            "Matriz Confusión:\n",
            " [[ 51   4]\n",
            " [  0 116]]\n",
            "\n",
            "MEDIA OBTENIDA : 0.976608187134503\n"
          ]
        }
      ]
    },
    {
      "cell_type": "markdown",
      "source": [
        "## DecisionTreeClassifier"
      ],
      "metadata": {
        "id": "qf4hIGAXggjz"
      }
    },
    {
      "cell_type": "code",
      "source": [
        "media =0 \n",
        "for i in range(1,10):\n",
        "  clasificador = DecisionTreeClassifier()\n",
        "  #prediccion\n",
        "  clasificador.fit(xe,te)\n",
        "  obtenido = clasificador.predict(xt)\n",
        "  media+=accuracy_score(tt,obtenido)\n",
        "  print('\\nclasificacion %.4f' % accuracy_score(tt,obtenido))\n",
        "  print(classification_report(tt,obtenido))\n",
        "  matriz_de_confusion=confusion_matrix(tt,obtenido)\n",
        "  print('Matriz Confusión:\\n',matriz_de_confusion)\n",
        "\n",
        "print('\\nMEDIA OBTENIDA :', media/9)\n"
      ],
      "metadata": {
        "colab": {
          "base_uri": "https://localhost:8080/"
        },
        "outputId": "ff85a160-ff11-4059-8db6-6d2b3b5dc666",
        "id": "17NX9zlPggjz"
      },
      "execution_count": 35,
      "outputs": [
        {
          "output_type": "stream",
          "name": "stdout",
          "text": [
            "\n",
            "clasificacion 0.9357\n",
            "              precision    recall  f1-score   support\n",
            "\n",
            "           0       0.92      0.87      0.90        55\n",
            "           1       0.94      0.97      0.95       116\n",
            "\n",
            "    accuracy                           0.94       171\n",
            "   macro avg       0.93      0.92      0.93       171\n",
            "weighted avg       0.94      0.94      0.94       171\n",
            "\n",
            "Matriz Confusión:\n",
            " [[ 48   7]\n",
            " [  4 112]]\n",
            "\n",
            "clasificacion 0.9064\n",
            "              precision    recall  f1-score   support\n",
            "\n",
            "           0       0.90      0.80      0.85        55\n",
            "           1       0.91      0.96      0.93       116\n",
            "\n",
            "    accuracy                           0.91       171\n",
            "   macro avg       0.90      0.88      0.89       171\n",
            "weighted avg       0.91      0.91      0.90       171\n",
            "\n",
            "Matriz Confusión:\n",
            " [[ 44  11]\n",
            " [  5 111]]\n",
            "\n",
            "clasificacion 0.9064\n",
            "              precision    recall  f1-score   support\n",
            "\n",
            "           0       0.88      0.82      0.85        55\n",
            "           1       0.92      0.95      0.93       116\n",
            "\n",
            "    accuracy                           0.91       171\n",
            "   macro avg       0.90      0.88      0.89       171\n",
            "weighted avg       0.91      0.91      0.91       171\n",
            "\n",
            "Matriz Confusión:\n",
            " [[ 45  10]\n",
            " [  6 110]]\n",
            "\n",
            "clasificacion 0.9181\n",
            "              precision    recall  f1-score   support\n",
            "\n",
            "           0       0.87      0.87      0.87        55\n",
            "           1       0.94      0.94      0.94       116\n",
            "\n",
            "    accuracy                           0.92       171\n",
            "   macro avg       0.91      0.91      0.91       171\n",
            "weighted avg       0.92      0.92      0.92       171\n",
            "\n",
            "Matriz Confusión:\n",
            " [[ 48   7]\n",
            " [  7 109]]\n",
            "\n",
            "clasificacion 0.9064\n",
            "              precision    recall  f1-score   support\n",
            "\n",
            "           0       0.91      0.78      0.84        55\n",
            "           1       0.90      0.97      0.93       116\n",
            "\n",
            "    accuracy                           0.91       171\n",
            "   macro avg       0.91      0.87      0.89       171\n",
            "weighted avg       0.91      0.91      0.90       171\n",
            "\n",
            "Matriz Confusión:\n",
            " [[ 43  12]\n",
            " [  4 112]]\n",
            "\n",
            "clasificacion 0.9006\n",
            "              precision    recall  f1-score   support\n",
            "\n",
            "           0       0.90      0.78      0.83        55\n",
            "           1       0.90      0.96      0.93       116\n",
            "\n",
            "    accuracy                           0.90       171\n",
            "   macro avg       0.90      0.87      0.88       171\n",
            "weighted avg       0.90      0.90      0.90       171\n",
            "\n",
            "Matriz Confusión:\n",
            " [[ 43  12]\n",
            " [  5 111]]\n",
            "\n",
            "clasificacion 0.9123\n",
            "              precision    recall  f1-score   support\n",
            "\n",
            "           0       0.92      0.80      0.85        55\n",
            "           1       0.91      0.97      0.94       116\n",
            "\n",
            "    accuracy                           0.91       171\n",
            "   macro avg       0.91      0.88      0.90       171\n",
            "weighted avg       0.91      0.91      0.91       171\n",
            "\n",
            "Matriz Confusión:\n",
            " [[ 44  11]\n",
            " [  4 112]]\n",
            "\n",
            "clasificacion 0.9123\n",
            "              precision    recall  f1-score   support\n",
            "\n",
            "           0       0.93      0.78      0.85        55\n",
            "           1       0.90      0.97      0.94       116\n",
            "\n",
            "    accuracy                           0.91       171\n",
            "   macro avg       0.92      0.88      0.89       171\n",
            "weighted avg       0.91      0.91      0.91       171\n",
            "\n",
            "Matriz Confusión:\n",
            " [[ 43  12]\n",
            " [  3 113]]\n",
            "\n",
            "clasificacion 0.9298\n",
            "              precision    recall  f1-score   support\n",
            "\n",
            "           0       0.92      0.85      0.89        55\n",
            "           1       0.93      0.97      0.95       116\n",
            "\n",
            "    accuracy                           0.93       171\n",
            "   macro avg       0.93      0.91      0.92       171\n",
            "weighted avg       0.93      0.93      0.93       171\n",
            "\n",
            "Matriz Confusión:\n",
            " [[ 47   8]\n",
            " [  4 112]]\n",
            "\n",
            "MEDIA OBTENIDA : 0.9142300194931775\n"
          ]
        }
      ]
    },
    {
      "cell_type": "code",
      "source": [
        "graphviz.Source(export_graphviz(clasificador, feature_names=cancer.feature_names))"
      ],
      "metadata": {
        "colab": {
          "base_uri": "https://localhost:8080/",
          "height": 1000
        },
        "id": "sgpZZdz4ntbK",
        "outputId": "455546be-2a74-4041-aebc-6b7f478dbe9d"
      },
      "execution_count": 36,
      "outputs": [
        {
          "output_type": "execute_result",
          "data": {
            "text/plain": [
              "<graphviz.files.Source at 0x7ff9d146afd0>"
            ],
            "image/svg+xml": "<?xml version=\"1.0\" encoding=\"UTF-8\" standalone=\"no\"?>\n<!DOCTYPE svg PUBLIC \"-//W3C//DTD SVG 1.1//EN\"\n \"http://www.w3.org/Graphics/SVG/1.1/DTD/svg11.dtd\">\n<!-- Generated by graphviz version 2.40.1 (20161225.0304)\n -->\n<!-- Title: Tree Pages: 1 -->\n<svg width=\"1780pt\" height=\"789pt\"\n viewBox=\"0.00 0.00 1780.00 789.00\" xmlns=\"http://www.w3.org/2000/svg\" xmlns:xlink=\"http://www.w3.org/1999/xlink\">\n<g id=\"graph0\" class=\"graph\" transform=\"scale(1 1) rotate(0) translate(4 785)\">\n<title>Tree</title>\n<polygon fill=\"#ffffff\" stroke=\"transparent\" points=\"-4,4 -4,-785 1776,-785 1776,4 -4,4\"/>\n<!-- 0 -->\n<g id=\"node1\" class=\"node\">\n<title>0</title>\n<polygon fill=\"none\" stroke=\"#000000\" points=\"1214,-781 1033,-781 1033,-713 1214,-713 1214,-781\"/>\n<text text-anchor=\"middle\" x=\"1123.5\" y=\"-765.8\" font-family=\"Helvetica,sans-Serif\" font-size=\"14.00\" fill=\"#000000\">worst perimeter &lt;= &#45;0.035</text>\n<text text-anchor=\"middle\" x=\"1123.5\" y=\"-750.8\" font-family=\"Helvetica,sans-Serif\" font-size=\"14.00\" fill=\"#000000\">gini = 0.478</text>\n<text text-anchor=\"middle\" x=\"1123.5\" y=\"-735.8\" font-family=\"Helvetica,sans-Serif\" font-size=\"14.00\" fill=\"#000000\">samples = 398</text>\n<text text-anchor=\"middle\" x=\"1123.5\" y=\"-720.8\" font-family=\"Helvetica,sans-Serif\" font-size=\"14.00\" fill=\"#000000\">value = [157, 241]</text>\n</g>\n<!-- 1 -->\n<g id=\"node2\" class=\"node\">\n<title>1</title>\n<polygon fill=\"none\" stroke=\"#000000\" points=\"1082.5,-677 868.5,-677 868.5,-609 1082.5,-609 1082.5,-677\"/>\n<text text-anchor=\"middle\" x=\"975.5\" y=\"-661.8\" font-family=\"Helvetica,sans-Serif\" font-size=\"14.00\" fill=\"#000000\">worst concave points &lt;= 0.674</text>\n<text text-anchor=\"middle\" x=\"975.5\" y=\"-646.8\" font-family=\"Helvetica,sans-Serif\" font-size=\"14.00\" fill=\"#000000\">gini = 0.083</text>\n<text text-anchor=\"middle\" x=\"975.5\" y=\"-631.8\" font-family=\"Helvetica,sans-Serif\" font-size=\"14.00\" fill=\"#000000\">samples = 231</text>\n<text text-anchor=\"middle\" x=\"975.5\" y=\"-616.8\" font-family=\"Helvetica,sans-Serif\" font-size=\"14.00\" fill=\"#000000\">value = [10, 221]</text>\n</g>\n<!-- 0&#45;&gt;1 -->\n<g id=\"edge1\" class=\"edge\">\n<title>0&#45;&gt;1</title>\n<path fill=\"none\" stroke=\"#000000\" d=\"M1075.0393,-712.9465C1061.3677,-703.3395 1046.3706,-692.8009 1032.2591,-682.8848\"/>\n<polygon fill=\"#000000\" stroke=\"#000000\" points=\"1034.2639,-680.0158 1024.0696,-677.13 1030.2392,-685.7432 1034.2639,-680.0158\"/>\n<text text-anchor=\"middle\" x=\"1028.3696\" y=\"-698.0574\" font-family=\"Helvetica,sans-Serif\" font-size=\"14.00\" fill=\"#000000\">True</text>\n</g>\n<!-- 22 -->\n<g id=\"node23\" class=\"node\">\n<title>22</title>\n<polygon fill=\"none\" stroke=\"#000000\" points=\"1337,-677 1116,-677 1116,-609 1337,-609 1337,-677\"/>\n<text text-anchor=\"middle\" x=\"1226.5\" y=\"-661.8\" font-family=\"Helvetica,sans-Serif\" font-size=\"14.00\" fill=\"#000000\">mean concave points &lt;= &#45;0.001</text>\n<text text-anchor=\"middle\" x=\"1226.5\" y=\"-646.8\" font-family=\"Helvetica,sans-Serif\" font-size=\"14.00\" fill=\"#000000\">gini = 0.211</text>\n<text text-anchor=\"middle\" x=\"1226.5\" y=\"-631.8\" font-family=\"Helvetica,sans-Serif\" font-size=\"14.00\" fill=\"#000000\">samples = 167</text>\n<text text-anchor=\"middle\" x=\"1226.5\" y=\"-616.8\" font-family=\"Helvetica,sans-Serif\" font-size=\"14.00\" fill=\"#000000\">value = [147, 20]</text>\n</g>\n<!-- 0&#45;&gt;22 -->\n<g id=\"edge22\" class=\"edge\">\n<title>0&#45;&gt;22</title>\n<path fill=\"none\" stroke=\"#000000\" d=\"M1157.2261,-712.9465C1166.2961,-703.7884 1176.2045,-693.7838 1185.6181,-684.2788\"/>\n<polygon fill=\"#000000\" stroke=\"#000000\" points=\"1188.1481,-686.6981 1192.6982,-677.13 1183.1745,-681.7723 1188.1481,-686.6981\"/>\n<text text-anchor=\"middle\" x=\"1192.8189\" y=\"-698.4297\" font-family=\"Helvetica,sans-Serif\" font-size=\"14.00\" fill=\"#000000\">False</text>\n</g>\n<!-- 2 -->\n<g id=\"node3\" class=\"node\">\n<title>2</title>\n<polygon fill=\"none\" stroke=\"#000000\" points=\"844,-573 657,-573 657,-505 844,-505 844,-573\"/>\n<text text-anchor=\"middle\" x=\"750.5\" y=\"-557.8\" font-family=\"Helvetica,sans-Serif\" font-size=\"14.00\" fill=\"#000000\">worst smoothness &lt;= 2.55</text>\n<text text-anchor=\"middle\" x=\"750.5\" y=\"-542.8\" font-family=\"Helvetica,sans-Serif\" font-size=\"14.00\" fill=\"#000000\">gini = 0.035</text>\n<text text-anchor=\"middle\" x=\"750.5\" y=\"-527.8\" font-family=\"Helvetica,sans-Serif\" font-size=\"14.00\" fill=\"#000000\">samples = 223</text>\n<text text-anchor=\"middle\" x=\"750.5\" y=\"-512.8\" font-family=\"Helvetica,sans-Serif\" font-size=\"14.00\" fill=\"#000000\">value = [4, 219]</text>\n</g>\n<!-- 1&#45;&gt;2 -->\n<g id=\"edge2\" class=\"edge\">\n<title>1&#45;&gt;2</title>\n<path fill=\"none\" stroke=\"#000000\" d=\"M901.8266,-608.9465C879.9738,-598.8457 855.8932,-587.7151 833.4922,-577.3608\"/>\n<polygon fill=\"#000000\" stroke=\"#000000\" points=\"834.8847,-574.1487 824.3389,-573.13 831.9477,-580.5028 834.8847,-574.1487\"/>\n</g>\n<!-- 19 -->\n<g id=\"node20\" class=\"node\">\n<title>19</title>\n<polygon fill=\"none\" stroke=\"#000000\" points=\"1057.5,-573 893.5,-573 893.5,-505 1057.5,-505 1057.5,-573\"/>\n<text text-anchor=\"middle\" x=\"975.5\" y=\"-557.8\" font-family=\"Helvetica,sans-Serif\" font-size=\"14.00\" fill=\"#000000\">worst texture &lt;= &#45;0.359</text>\n<text text-anchor=\"middle\" x=\"975.5\" y=\"-542.8\" font-family=\"Helvetica,sans-Serif\" font-size=\"14.00\" fill=\"#000000\">gini = 0.375</text>\n<text text-anchor=\"middle\" x=\"975.5\" y=\"-527.8\" font-family=\"Helvetica,sans-Serif\" font-size=\"14.00\" fill=\"#000000\">samples = 8</text>\n<text text-anchor=\"middle\" x=\"975.5\" y=\"-512.8\" font-family=\"Helvetica,sans-Serif\" font-size=\"14.00\" fill=\"#000000\">value = [6, 2]</text>\n</g>\n<!-- 1&#45;&gt;19 -->\n<g id=\"edge19\" class=\"edge\">\n<title>1&#45;&gt;19</title>\n<path fill=\"none\" stroke=\"#000000\" d=\"M975.5,-608.9465C975.5,-600.776 975.5,-591.9318 975.5,-583.3697\"/>\n<polygon fill=\"#000000\" stroke=\"#000000\" points=\"979.0001,-583.13 975.5,-573.13 972.0001,-583.13 979.0001,-583.13\"/>\n</g>\n<!-- 3 -->\n<g id=\"node4\" class=\"node\">\n<title>3</title>\n<polygon fill=\"none\" stroke=\"#000000\" points=\"640.5,-469 476.5,-469 476.5,-401 640.5,-401 640.5,-469\"/>\n<text text-anchor=\"middle\" x=\"558.5\" y=\"-453.8\" font-family=\"Helvetica,sans-Serif\" font-size=\"14.00\" fill=\"#000000\">perimeter error &lt;= 0.62</text>\n<text text-anchor=\"middle\" x=\"558.5\" y=\"-438.8\" font-family=\"Helvetica,sans-Serif\" font-size=\"14.00\" fill=\"#000000\">gini = 0.027</text>\n<text text-anchor=\"middle\" x=\"558.5\" y=\"-423.8\" font-family=\"Helvetica,sans-Serif\" font-size=\"14.00\" fill=\"#000000\">samples = 221</text>\n<text text-anchor=\"middle\" x=\"558.5\" y=\"-408.8\" font-family=\"Helvetica,sans-Serif\" font-size=\"14.00\" fill=\"#000000\">value = [3, 218]</text>\n</g>\n<!-- 2&#45;&gt;3 -->\n<g id=\"edge3\" class=\"edge\">\n<title>2&#45;&gt;3</title>\n<path fill=\"none\" stroke=\"#000000\" d=\"M687.632,-504.9465C669.3158,-495.0252 649.1655,-484.1105 630.3408,-473.9138\"/>\n<polygon fill=\"#000000\" stroke=\"#000000\" points=\"631.9692,-470.8154 621.5092,-469.13 628.6351,-476.9704 631.9692,-470.8154\"/>\n</g>\n<!-- 16 -->\n<g id=\"node17\" class=\"node\">\n<title>16</title>\n<polygon fill=\"none\" stroke=\"#000000\" points=\"842,-469 659,-469 659,-401 842,-401 842,-469\"/>\n<text text-anchor=\"middle\" x=\"750.5\" y=\"-453.8\" font-family=\"Helvetica,sans-Serif\" font-size=\"14.00\" fill=\"#000000\">mean perimeter &lt;= &#45;0.987</text>\n<text text-anchor=\"middle\" x=\"750.5\" y=\"-438.8\" font-family=\"Helvetica,sans-Serif\" font-size=\"14.00\" fill=\"#000000\">gini = 0.5</text>\n<text text-anchor=\"middle\" x=\"750.5\" y=\"-423.8\" font-family=\"Helvetica,sans-Serif\" font-size=\"14.00\" fill=\"#000000\">samples = 2</text>\n<text text-anchor=\"middle\" x=\"750.5\" y=\"-408.8\" font-family=\"Helvetica,sans-Serif\" font-size=\"14.00\" fill=\"#000000\">value = [1, 1]</text>\n</g>\n<!-- 2&#45;&gt;16 -->\n<g id=\"edge16\" class=\"edge\">\n<title>2&#45;&gt;16</title>\n<path fill=\"none\" stroke=\"#000000\" d=\"M750.5,-504.9465C750.5,-496.776 750.5,-487.9318 750.5,-479.3697\"/>\n<polygon fill=\"#000000\" stroke=\"#000000\" points=\"754.0001,-479.13 750.5,-469.13 747.0001,-479.13 754.0001,-479.13\"/>\n</g>\n<!-- 4 -->\n<g id=\"node5\" class=\"node\">\n<title>4</title>\n<polygon fill=\"none\" stroke=\"#000000\" points=\"442.5,-365 210.5,-365 210.5,-297 442.5,-297 442.5,-365\"/>\n<text text-anchor=\"middle\" x=\"326.5\" y=\"-349.8\" font-family=\"Helvetica,sans-Serif\" font-size=\"14.00\" fill=\"#000000\">mean fractal dimension &lt;= &#45;1.212</text>\n<text text-anchor=\"middle\" x=\"326.5\" y=\"-334.8\" font-family=\"Helvetica,sans-Serif\" font-size=\"14.00\" fill=\"#000000\">gini = 0.018</text>\n<text text-anchor=\"middle\" x=\"326.5\" y=\"-319.8\" font-family=\"Helvetica,sans-Serif\" font-size=\"14.00\" fill=\"#000000\">samples = 218</text>\n<text text-anchor=\"middle\" x=\"326.5\" y=\"-304.8\" font-family=\"Helvetica,sans-Serif\" font-size=\"14.00\" fill=\"#000000\">value = [2, 216]</text>\n</g>\n<!-- 3&#45;&gt;4 -->\n<g id=\"edge4\" class=\"edge\">\n<title>3&#45;&gt;4</title>\n<path fill=\"none\" stroke=\"#000000\" d=\"M482.5345,-400.9465C459.9017,-390.8008 434.9513,-379.6161 411.7663,-369.2228\"/>\n<polygon fill=\"#000000\" stroke=\"#000000\" points=\"413.193,-366.0268 402.6361,-365.13 410.3295,-372.4144 413.193,-366.0268\"/>\n</g>\n<!-- 13 -->\n<g id=\"node14\" class=\"node\">\n<title>13</title>\n<polygon fill=\"none\" stroke=\"#000000\" points=\"668,-365 461,-365 461,-297 668,-297 668,-365\"/>\n<text text-anchor=\"middle\" x=\"564.5\" y=\"-349.8\" font-family=\"Helvetica,sans-Serif\" font-size=\"14.00\" fill=\"#000000\">worst compactness &lt;= &#45;0.934</text>\n<text text-anchor=\"middle\" x=\"564.5\" y=\"-334.8\" font-family=\"Helvetica,sans-Serif\" font-size=\"14.00\" fill=\"#000000\">gini = 0.444</text>\n<text text-anchor=\"middle\" x=\"564.5\" y=\"-319.8\" font-family=\"Helvetica,sans-Serif\" font-size=\"14.00\" fill=\"#000000\">samples = 3</text>\n<text text-anchor=\"middle\" x=\"564.5\" y=\"-304.8\" font-family=\"Helvetica,sans-Serif\" font-size=\"14.00\" fill=\"#000000\">value = [1, 2]</text>\n</g>\n<!-- 3&#45;&gt;13 -->\n<g id=\"edge13\" class=\"edge\">\n<title>3&#45;&gt;13</title>\n<path fill=\"none\" stroke=\"#000000\" d=\"M560.4646,-400.9465C560.936,-392.776 561.4462,-383.9318 561.9402,-375.3697\"/>\n<polygon fill=\"#000000\" stroke=\"#000000\" points=\"565.4491,-375.315 562.531,-365.13 558.4607,-374.9118 565.4491,-375.315\"/>\n</g>\n<!-- 5 -->\n<g id=\"node6\" class=\"node\">\n<title>5</title>\n<polygon fill=\"none\" stroke=\"#000000\" points=\"251,-261 42,-261 42,-193 251,-193 251,-261\"/>\n<text text-anchor=\"middle\" x=\"146.5\" y=\"-245.8\" font-family=\"Helvetica,sans-Serif\" font-size=\"14.00\" fill=\"#000000\">concave points error &lt;= 0.242</text>\n<text text-anchor=\"middle\" x=\"146.5\" y=\"-230.8\" font-family=\"Helvetica,sans-Serif\" font-size=\"14.00\" fill=\"#000000\">gini = 0.278</text>\n<text text-anchor=\"middle\" x=\"146.5\" y=\"-215.8\" font-family=\"Helvetica,sans-Serif\" font-size=\"14.00\" fill=\"#000000\">samples = 6</text>\n<text text-anchor=\"middle\" x=\"146.5\" y=\"-200.8\" font-family=\"Helvetica,sans-Serif\" font-size=\"14.00\" fill=\"#000000\">value = [1, 5]</text>\n</g>\n<!-- 4&#45;&gt;5 -->\n<g id=\"edge5\" class=\"edge\">\n<title>4&#45;&gt;5</title>\n<path fill=\"none\" stroke=\"#000000\" d=\"M267.5613,-296.9465C250.6229,-287.1599 232.0115,-276.4066 214.5701,-266.3294\"/>\n<polygon fill=\"#000000\" stroke=\"#000000\" points=\"215.9808,-263.1023 205.5711,-261.13 212.4788,-269.1634 215.9808,-263.1023\"/>\n</g>\n<!-- 8 -->\n<g id=\"node9\" class=\"node\">\n<title>8</title>\n<polygon fill=\"none\" stroke=\"#000000\" points=\"429.5,-261 269.5,-261 269.5,-193 429.5,-193 429.5,-261\"/>\n<text text-anchor=\"middle\" x=\"349.5\" y=\"-245.8\" font-family=\"Helvetica,sans-Serif\" font-size=\"14.00\" fill=\"#000000\">worst texture &lt;= 1.249</text>\n<text text-anchor=\"middle\" x=\"349.5\" y=\"-230.8\" font-family=\"Helvetica,sans-Serif\" font-size=\"14.00\" fill=\"#000000\">gini = 0.009</text>\n<text text-anchor=\"middle\" x=\"349.5\" y=\"-215.8\" font-family=\"Helvetica,sans-Serif\" font-size=\"14.00\" fill=\"#000000\">samples = 212</text>\n<text text-anchor=\"middle\" x=\"349.5\" y=\"-200.8\" font-family=\"Helvetica,sans-Serif\" font-size=\"14.00\" fill=\"#000000\">value = [1, 211]</text>\n</g>\n<!-- 4&#45;&gt;8 -->\n<g id=\"edge8\" class=\"edge\">\n<title>4&#45;&gt;8</title>\n<path fill=\"none\" stroke=\"#000000\" d=\"M334.0311,-296.9465C335.8578,-288.6863 337.8369,-279.7374 339.7499,-271.0875\"/>\n<polygon fill=\"#000000\" stroke=\"#000000\" points=\"343.21,-271.6499 341.952,-261.13 336.3752,-270.1383 343.21,-271.6499\"/>\n</g>\n<!-- 6 -->\n<g id=\"node7\" class=\"node\">\n<title>6</title>\n<polygon fill=\"none\" stroke=\"#000000\" points=\"99,-149.5 0,-149.5 0,-96.5 99,-96.5 99,-149.5\"/>\n<text text-anchor=\"middle\" x=\"49.5\" y=\"-134.3\" font-family=\"Helvetica,sans-Serif\" font-size=\"14.00\" fill=\"#000000\">gini = 0.0</text>\n<text text-anchor=\"middle\" x=\"49.5\" y=\"-119.3\" font-family=\"Helvetica,sans-Serif\" font-size=\"14.00\" fill=\"#000000\">samples = 5</text>\n<text text-anchor=\"middle\" x=\"49.5\" y=\"-104.3\" font-family=\"Helvetica,sans-Serif\" font-size=\"14.00\" fill=\"#000000\">value = [0, 5]</text>\n</g>\n<!-- 5&#45;&gt;6 -->\n<g id=\"edge6\" class=\"edge\">\n<title>5&#45;&gt;6</title>\n<path fill=\"none\" stroke=\"#000000\" d=\"M114.7386,-192.9465C103.9514,-181.3809 91.905,-168.4652 81.1282,-156.9107\"/>\n<polygon fill=\"#000000\" stroke=\"#000000\" points=\"83.6359,-154.4678 74.2557,-149.5422 78.5169,-159.2423 83.6359,-154.4678\"/>\n</g>\n<!-- 7 -->\n<g id=\"node8\" class=\"node\">\n<title>7</title>\n<polygon fill=\"none\" stroke=\"#000000\" points=\"216,-149.5 117,-149.5 117,-96.5 216,-96.5 216,-149.5\"/>\n<text text-anchor=\"middle\" x=\"166.5\" y=\"-134.3\" font-family=\"Helvetica,sans-Serif\" font-size=\"14.00\" fill=\"#000000\">gini = 0.0</text>\n<text text-anchor=\"middle\" x=\"166.5\" y=\"-119.3\" font-family=\"Helvetica,sans-Serif\" font-size=\"14.00\" fill=\"#000000\">samples = 1</text>\n<text text-anchor=\"middle\" x=\"166.5\" y=\"-104.3\" font-family=\"Helvetica,sans-Serif\" font-size=\"14.00\" fill=\"#000000\">value = [1, 0]</text>\n</g>\n<!-- 5&#45;&gt;7 -->\n<g id=\"edge7\" class=\"edge\">\n<title>5&#45;&gt;7</title>\n<path fill=\"none\" stroke=\"#000000\" d=\"M153.0487,-192.9465C155.1035,-182.2621 157.3797,-170.4254 159.4665,-159.5742\"/>\n<polygon fill=\"#000000\" stroke=\"#000000\" points=\"162.9442,-160.0232 161.3957,-149.5422 156.0702,-158.7012 162.9442,-160.0232\"/>\n</g>\n<!-- 9 -->\n<g id=\"node10\" class=\"node\">\n<title>9</title>\n<polygon fill=\"none\" stroke=\"#000000\" points=\"388.5,-149.5 272.5,-149.5 272.5,-96.5 388.5,-96.5 388.5,-149.5\"/>\n<text text-anchor=\"middle\" x=\"330.5\" y=\"-134.3\" font-family=\"Helvetica,sans-Serif\" font-size=\"14.00\" fill=\"#000000\">gini = 0.0</text>\n<text text-anchor=\"middle\" x=\"330.5\" y=\"-119.3\" font-family=\"Helvetica,sans-Serif\" font-size=\"14.00\" fill=\"#000000\">samples = 198</text>\n<text text-anchor=\"middle\" x=\"330.5\" y=\"-104.3\" font-family=\"Helvetica,sans-Serif\" font-size=\"14.00\" fill=\"#000000\">value = [0, 198]</text>\n</g>\n<!-- 8&#45;&gt;9 -->\n<g id=\"edge9\" class=\"edge\">\n<title>8&#45;&gt;9</title>\n<path fill=\"none\" stroke=\"#000000\" d=\"M343.2787,-192.9465C341.3267,-182.2621 339.1643,-170.4254 337.1818,-159.5742\"/>\n<polygon fill=\"#000000\" stroke=\"#000000\" points=\"340.5893,-158.7503 335.349,-149.5422 333.7033,-160.0084 340.5893,-158.7503\"/>\n</g>\n<!-- 10 -->\n<g id=\"node11\" class=\"node\">\n<title>10</title>\n<polygon fill=\"none\" stroke=\"#000000\" points=\"566.5,-157 406.5,-157 406.5,-89 566.5,-89 566.5,-157\"/>\n<text text-anchor=\"middle\" x=\"486.5\" y=\"-141.8\" font-family=\"Helvetica,sans-Serif\" font-size=\"14.00\" fill=\"#000000\">worst texture &lt;= 1.284</text>\n<text text-anchor=\"middle\" x=\"486.5\" y=\"-126.8\" font-family=\"Helvetica,sans-Serif\" font-size=\"14.00\" fill=\"#000000\">gini = 0.133</text>\n<text text-anchor=\"middle\" x=\"486.5\" y=\"-111.8\" font-family=\"Helvetica,sans-Serif\" font-size=\"14.00\" fill=\"#000000\">samples = 14</text>\n<text text-anchor=\"middle\" x=\"486.5\" y=\"-96.8\" font-family=\"Helvetica,sans-Serif\" font-size=\"14.00\" fill=\"#000000\">value = [1, 13]</text>\n</g>\n<!-- 8&#45;&gt;10 -->\n<g id=\"edge10\" class=\"edge\">\n<title>8&#45;&gt;10</title>\n<path fill=\"none\" stroke=\"#000000\" d=\"M394.3589,-192.9465C406.7778,-183.519 420.3783,-173.1946 433.2261,-163.4415\"/>\n<polygon fill=\"#000000\" stroke=\"#000000\" points=\"435.6915,-165.9642 441.5403,-157.13 431.459,-160.3887 435.6915,-165.9642\"/>\n</g>\n<!-- 11 -->\n<g id=\"node12\" class=\"node\">\n<title>11</title>\n<polygon fill=\"none\" stroke=\"#000000\" points=\"475,-53 376,-53 376,0 475,0 475,-53\"/>\n<text text-anchor=\"middle\" x=\"425.5\" y=\"-37.8\" font-family=\"Helvetica,sans-Serif\" font-size=\"14.00\" fill=\"#000000\">gini = 0.0</text>\n<text text-anchor=\"middle\" x=\"425.5\" y=\"-22.8\" font-family=\"Helvetica,sans-Serif\" font-size=\"14.00\" fill=\"#000000\">samples = 1</text>\n<text text-anchor=\"middle\" x=\"425.5\" y=\"-7.8\" font-family=\"Helvetica,sans-Serif\" font-size=\"14.00\" fill=\"#000000\">value = [1, 0]</text>\n</g>\n<!-- 10&#45;&gt;11 -->\n<g id=\"edge11\" class=\"edge\">\n<title>10&#45;&gt;11</title>\n<path fill=\"none\" stroke=\"#000000\" d=\"M464.9937,-88.9777C459.4369,-80.187 453.4427,-70.7044 447.8441,-61.8477\"/>\n<polygon fill=\"#000000\" stroke=\"#000000\" points=\"450.7101,-59.8312 442.4084,-53.2485 444.7931,-63.5714 450.7101,-59.8312\"/>\n</g>\n<!-- 12 -->\n<g id=\"node13\" class=\"node\">\n<title>12</title>\n<polygon fill=\"none\" stroke=\"#000000\" points=\"600,-53 493,-53 493,0 600,0 600,-53\"/>\n<text text-anchor=\"middle\" x=\"546.5\" y=\"-37.8\" font-family=\"Helvetica,sans-Serif\" font-size=\"14.00\" fill=\"#000000\">gini = 0.0</text>\n<text text-anchor=\"middle\" x=\"546.5\" y=\"-22.8\" font-family=\"Helvetica,sans-Serif\" font-size=\"14.00\" fill=\"#000000\">samples = 13</text>\n<text text-anchor=\"middle\" x=\"546.5\" y=\"-7.8\" font-family=\"Helvetica,sans-Serif\" font-size=\"14.00\" fill=\"#000000\">value = [0, 13]</text>\n</g>\n<!-- 10&#45;&gt;12 -->\n<g id=\"edge12\" class=\"edge\">\n<title>10&#45;&gt;12</title>\n<path fill=\"none\" stroke=\"#000000\" d=\"M507.6538,-88.9777C513.1195,-80.187 519.0154,-70.7044 524.5222,-61.8477\"/>\n<polygon fill=\"#000000\" stroke=\"#000000\" points=\"527.5609,-63.5889 529.8688,-53.2485 521.6163,-59.8927 527.5609,-63.5889\"/>\n</g>\n<!-- 14 -->\n<g id=\"node15\" class=\"node\">\n<title>14</title>\n<polygon fill=\"none\" stroke=\"#000000\" points=\"592,-253.5 493,-253.5 493,-200.5 592,-200.5 592,-253.5\"/>\n<text text-anchor=\"middle\" x=\"542.5\" y=\"-238.3\" font-family=\"Helvetica,sans-Serif\" font-size=\"14.00\" fill=\"#000000\">gini = 0.0</text>\n<text text-anchor=\"middle\" x=\"542.5\" y=\"-223.3\" font-family=\"Helvetica,sans-Serif\" font-size=\"14.00\" fill=\"#000000\">samples = 1</text>\n<text text-anchor=\"middle\" x=\"542.5\" y=\"-208.3\" font-family=\"Helvetica,sans-Serif\" font-size=\"14.00\" fill=\"#000000\">value = [1, 0]</text>\n</g>\n<!-- 13&#45;&gt;14 -->\n<g id=\"edge14\" class=\"edge\">\n<title>13&#45;&gt;14</title>\n<path fill=\"none\" stroke=\"#000000\" d=\"M557.2964,-296.9465C555.0362,-286.2621 552.5323,-274.4254 550.2369,-263.5742\"/>\n<polygon fill=\"#000000\" stroke=\"#000000\" points=\"553.6086,-262.6013 548.1147,-253.5422 546.7601,-264.05 553.6086,-262.6013\"/>\n</g>\n<!-- 15 -->\n<g id=\"node16\" class=\"node\">\n<title>15</title>\n<polygon fill=\"none\" stroke=\"#000000\" points=\"709,-253.5 610,-253.5 610,-200.5 709,-200.5 709,-253.5\"/>\n<text text-anchor=\"middle\" x=\"659.5\" y=\"-238.3\" font-family=\"Helvetica,sans-Serif\" font-size=\"14.00\" fill=\"#000000\">gini = 0.0</text>\n<text text-anchor=\"middle\" x=\"659.5\" y=\"-223.3\" font-family=\"Helvetica,sans-Serif\" font-size=\"14.00\" fill=\"#000000\">samples = 2</text>\n<text text-anchor=\"middle\" x=\"659.5\" y=\"-208.3\" font-family=\"Helvetica,sans-Serif\" font-size=\"14.00\" fill=\"#000000\">value = [0, 2]</text>\n</g>\n<!-- 13&#45;&gt;15 -->\n<g id=\"edge15\" class=\"edge\">\n<title>13&#45;&gt;15</title>\n<path fill=\"none\" stroke=\"#000000\" d=\"M595.6066,-296.9465C606.0707,-285.491 617.7447,-272.711 628.222,-261.2412\"/>\n<polygon fill=\"#000000\" stroke=\"#000000\" points=\"631.0945,-263.2861 635.2548,-253.5422 625.9262,-258.565 631.0945,-263.2861\"/>\n</g>\n<!-- 17 -->\n<g id=\"node18\" class=\"node\">\n<title>17</title>\n<polygon fill=\"none\" stroke=\"#000000\" points=\"795,-357.5 696,-357.5 696,-304.5 795,-304.5 795,-357.5\"/>\n<text text-anchor=\"middle\" x=\"745.5\" y=\"-342.3\" font-family=\"Helvetica,sans-Serif\" font-size=\"14.00\" fill=\"#000000\">gini = 0.0</text>\n<text text-anchor=\"middle\" x=\"745.5\" y=\"-327.3\" font-family=\"Helvetica,sans-Serif\" font-size=\"14.00\" fill=\"#000000\">samples = 1</text>\n<text text-anchor=\"middle\" x=\"745.5\" y=\"-312.3\" font-family=\"Helvetica,sans-Serif\" font-size=\"14.00\" fill=\"#000000\">value = [0, 1]</text>\n</g>\n<!-- 16&#45;&gt;17 -->\n<g id=\"edge17\" class=\"edge\">\n<title>16&#45;&gt;17</title>\n<path fill=\"none\" stroke=\"#000000\" d=\"M748.8628,-400.9465C748.3491,-390.2621 747.7801,-378.4254 747.2584,-367.5742\"/>\n<polygon fill=\"#000000\" stroke=\"#000000\" points=\"750.7523,-367.3625 746.7761,-357.5422 743.7604,-367.6987 750.7523,-367.3625\"/>\n</g>\n<!-- 18 -->\n<g id=\"node19\" class=\"node\">\n<title>18</title>\n<polygon fill=\"none\" stroke=\"#000000\" points=\"912,-357.5 813,-357.5 813,-304.5 912,-304.5 912,-357.5\"/>\n<text text-anchor=\"middle\" x=\"862.5\" y=\"-342.3\" font-family=\"Helvetica,sans-Serif\" font-size=\"14.00\" fill=\"#000000\">gini = 0.0</text>\n<text text-anchor=\"middle\" x=\"862.5\" y=\"-327.3\" font-family=\"Helvetica,sans-Serif\" font-size=\"14.00\" fill=\"#000000\">samples = 1</text>\n<text text-anchor=\"middle\" x=\"862.5\" y=\"-312.3\" font-family=\"Helvetica,sans-Serif\" font-size=\"14.00\" fill=\"#000000\">value = [1, 0]</text>\n</g>\n<!-- 16&#45;&gt;18 -->\n<g id=\"edge18\" class=\"edge\">\n<title>16&#45;&gt;18</title>\n<path fill=\"none\" stroke=\"#000000\" d=\"M787.173,-400.9465C799.7469,-389.2707 813.8026,-376.219 826.3359,-364.5809\"/>\n<polygon fill=\"#000000\" stroke=\"#000000\" points=\"828.9698,-366.9115 833.9161,-357.5422 824.2066,-361.7819 828.9698,-366.9115\"/>\n</g>\n<!-- 20 -->\n<g id=\"node21\" class=\"node\">\n<title>20</title>\n<polygon fill=\"none\" stroke=\"#000000\" points=\"959,-461.5 860,-461.5 860,-408.5 959,-408.5 959,-461.5\"/>\n<text text-anchor=\"middle\" x=\"909.5\" y=\"-446.3\" font-family=\"Helvetica,sans-Serif\" font-size=\"14.00\" fill=\"#000000\">gini = 0.0</text>\n<text text-anchor=\"middle\" x=\"909.5\" y=\"-431.3\" font-family=\"Helvetica,sans-Serif\" font-size=\"14.00\" fill=\"#000000\">samples = 2</text>\n<text text-anchor=\"middle\" x=\"909.5\" y=\"-416.3\" font-family=\"Helvetica,sans-Serif\" font-size=\"14.00\" fill=\"#000000\">value = [0, 2]</text>\n</g>\n<!-- 19&#45;&gt;20 -->\n<g id=\"edge20\" class=\"edge\">\n<title>19&#45;&gt;20</title>\n<path fill=\"none\" stroke=\"#000000\" d=\"M953.8891,-504.9465C946.829,-493.8215 938.9761,-481.4473 931.8619,-470.237\"/>\n<polygon fill=\"#000000\" stroke=\"#000000\" points=\"934.6575,-468.1101 926.3441,-461.5422 928.7472,-471.8609 934.6575,-468.1101\"/>\n</g>\n<!-- 21 -->\n<g id=\"node22\" class=\"node\">\n<title>21</title>\n<polygon fill=\"none\" stroke=\"#000000\" points=\"1076,-461.5 977,-461.5 977,-408.5 1076,-408.5 1076,-461.5\"/>\n<text text-anchor=\"middle\" x=\"1026.5\" y=\"-446.3\" font-family=\"Helvetica,sans-Serif\" font-size=\"14.00\" fill=\"#000000\">gini = 0.0</text>\n<text text-anchor=\"middle\" x=\"1026.5\" y=\"-431.3\" font-family=\"Helvetica,sans-Serif\" font-size=\"14.00\" fill=\"#000000\">samples = 6</text>\n<text text-anchor=\"middle\" x=\"1026.5\" y=\"-416.3\" font-family=\"Helvetica,sans-Serif\" font-size=\"14.00\" fill=\"#000000\">value = [6, 0]</text>\n</g>\n<!-- 19&#45;&gt;21 -->\n<g id=\"edge21\" class=\"edge\">\n<title>19&#45;&gt;21</title>\n<path fill=\"none\" stroke=\"#000000\" d=\"M992.1993,-504.9465C997.6008,-493.9316 1003.6029,-481.6922 1009.0569,-470.5703\"/>\n<polygon fill=\"#000000\" stroke=\"#000000\" points=\"1012.2236,-472.0618 1013.4841,-461.5422 1005.9386,-468.9797 1012.2236,-472.0618\"/>\n</g>\n<!-- 23 -->\n<g id=\"node24\" class=\"node\">\n<title>23</title>\n<polygon fill=\"none\" stroke=\"#000000\" points=\"1333.5,-573 1119.5,-573 1119.5,-505 1333.5,-505 1333.5,-573\"/>\n<text text-anchor=\"middle\" x=\"1226.5\" y=\"-557.8\" font-family=\"Helvetica,sans-Serif\" font-size=\"14.00\" fill=\"#000000\">concave points error &lt;= &#45;0.271</text>\n<text text-anchor=\"middle\" x=\"1226.5\" y=\"-542.8\" font-family=\"Helvetica,sans-Serif\" font-size=\"14.00\" fill=\"#000000\">gini = 0.469</text>\n<text text-anchor=\"middle\" x=\"1226.5\" y=\"-527.8\" font-family=\"Helvetica,sans-Serif\" font-size=\"14.00\" fill=\"#000000\">samples = 24</text>\n<text text-anchor=\"middle\" x=\"1226.5\" y=\"-512.8\" font-family=\"Helvetica,sans-Serif\" font-size=\"14.00\" fill=\"#000000\">value = [9, 15]</text>\n</g>\n<!-- 22&#45;&gt;23 -->\n<g id=\"edge23\" class=\"edge\">\n<title>22&#45;&gt;23</title>\n<path fill=\"none\" stroke=\"#000000\" d=\"M1226.5,-608.9465C1226.5,-600.776 1226.5,-591.9318 1226.5,-583.3697\"/>\n<polygon fill=\"#000000\" stroke=\"#000000\" points=\"1230.0001,-583.13 1226.5,-573.13 1223.0001,-583.13 1230.0001,-583.13\"/>\n</g>\n<!-- 30 -->\n<g id=\"node31\" class=\"node\">\n<title>30</title>\n<polygon fill=\"none\" stroke=\"#000000\" points=\"1533,-573 1366,-573 1366,-505 1533,-505 1533,-573\"/>\n<text text-anchor=\"middle\" x=\"1449.5\" y=\"-557.8\" font-family=\"Helvetica,sans-Serif\" font-size=\"14.00\" fill=\"#000000\">mean texture &lt;= &#45;1.194</text>\n<text text-anchor=\"middle\" x=\"1449.5\" y=\"-542.8\" font-family=\"Helvetica,sans-Serif\" font-size=\"14.00\" fill=\"#000000\">gini = 0.067</text>\n<text text-anchor=\"middle\" x=\"1449.5\" y=\"-527.8\" font-family=\"Helvetica,sans-Serif\" font-size=\"14.00\" fill=\"#000000\">samples = 143</text>\n<text text-anchor=\"middle\" x=\"1449.5\" y=\"-512.8\" font-family=\"Helvetica,sans-Serif\" font-size=\"14.00\" fill=\"#000000\">value = [138, 5]</text>\n</g>\n<!-- 22&#45;&gt;30 -->\n<g id=\"edge30\" class=\"edge\">\n<title>22&#45;&gt;30</title>\n<path fill=\"none\" stroke=\"#000000\" d=\"M1299.5185,-608.9465C1321.1771,-598.8457 1345.0437,-587.7151 1367.2456,-577.3608\"/>\n<polygon fill=\"#000000\" stroke=\"#000000\" points=\"1368.7339,-580.5287 1376.3174,-573.13 1365.7752,-574.1847 1368.7339,-580.5287\"/>\n</g>\n<!-- 24 -->\n<g id=\"node25\" class=\"node\">\n<title>24</title>\n<polygon fill=\"none\" stroke=\"#000000\" points=\"1256.5,-469 1094.5,-469 1094.5,-401 1256.5,-401 1256.5,-469\"/>\n<text text-anchor=\"middle\" x=\"1175.5\" y=\"-453.8\" font-family=\"Helvetica,sans-Serif\" font-size=\"14.00\" fill=\"#000000\">mean texture &lt;= 0.045</text>\n<text text-anchor=\"middle\" x=\"1175.5\" y=\"-438.8\" font-family=\"Helvetica,sans-Serif\" font-size=\"14.00\" fill=\"#000000\">gini = 0.426</text>\n<text text-anchor=\"middle\" x=\"1175.5\" y=\"-423.8\" font-family=\"Helvetica,sans-Serif\" font-size=\"14.00\" fill=\"#000000\">samples = 13</text>\n<text text-anchor=\"middle\" x=\"1175.5\" y=\"-408.8\" font-family=\"Helvetica,sans-Serif\" font-size=\"14.00\" fill=\"#000000\">value = [9, 4]</text>\n</g>\n<!-- 23&#45;&gt;24 -->\n<g id=\"edge24\" class=\"edge\">\n<title>23&#45;&gt;24</title>\n<path fill=\"none\" stroke=\"#000000\" d=\"M1209.8007,-504.9465C1205.6179,-496.4169 1201.075,-487.153 1196.7054,-478.2424\"/>\n<polygon fill=\"#000000\" stroke=\"#000000\" points=\"1199.7823,-476.5675 1192.2368,-469.13 1193.4973,-479.6496 1199.7823,-476.5675\"/>\n</g>\n<!-- 29 -->\n<g id=\"node30\" class=\"node\">\n<title>29</title>\n<polygon fill=\"none\" stroke=\"#000000\" points=\"1382,-461.5 1275,-461.5 1275,-408.5 1382,-408.5 1382,-461.5\"/>\n<text text-anchor=\"middle\" x=\"1328.5\" y=\"-446.3\" font-family=\"Helvetica,sans-Serif\" font-size=\"14.00\" fill=\"#000000\">gini = 0.0</text>\n<text text-anchor=\"middle\" x=\"1328.5\" y=\"-431.3\" font-family=\"Helvetica,sans-Serif\" font-size=\"14.00\" fill=\"#000000\">samples = 11</text>\n<text text-anchor=\"middle\" x=\"1328.5\" y=\"-416.3\" font-family=\"Helvetica,sans-Serif\" font-size=\"14.00\" fill=\"#000000\">value = [0, 11]</text>\n</g>\n<!-- 23&#45;&gt;29 -->\n<g id=\"edge29\" class=\"edge\">\n<title>23&#45;&gt;29</title>\n<path fill=\"none\" stroke=\"#000000\" d=\"M1259.8986,-504.9465C1271.2418,-493.3809 1283.9092,-480.4652 1295.2415,-468.9107\"/>\n<polygon fill=\"#000000\" stroke=\"#000000\" points=\"1297.9649,-471.1323 1302.4683,-461.5422 1292.9674,-466.2308 1297.9649,-471.1323\"/>\n</g>\n<!-- 25 -->\n<g id=\"node26\" class=\"node\">\n<title>25</title>\n<polygon fill=\"none\" stroke=\"#000000\" points=\"1222,-365 1027,-365 1027,-297 1222,-297 1222,-365\"/>\n<text text-anchor=\"middle\" x=\"1124.5\" y=\"-349.8\" font-family=\"Helvetica,sans-Serif\" font-size=\"14.00\" fill=\"#000000\">worst smoothness &lt;= 0.144</text>\n<text text-anchor=\"middle\" x=\"1124.5\" y=\"-334.8\" font-family=\"Helvetica,sans-Serif\" font-size=\"14.00\" fill=\"#000000\">gini = 0.32</text>\n<text text-anchor=\"middle\" x=\"1124.5\" y=\"-319.8\" font-family=\"Helvetica,sans-Serif\" font-size=\"14.00\" fill=\"#000000\">samples = 5</text>\n<text text-anchor=\"middle\" x=\"1124.5\" y=\"-304.8\" font-family=\"Helvetica,sans-Serif\" font-size=\"14.00\" fill=\"#000000\">value = [1, 4]</text>\n</g>\n<!-- 24&#45;&gt;25 -->\n<g id=\"edge25\" class=\"edge\">\n<title>24&#45;&gt;25</title>\n<path fill=\"none\" stroke=\"#000000\" d=\"M1158.8007,-400.9465C1154.6179,-392.4169 1150.075,-383.153 1145.7054,-374.2424\"/>\n<polygon fill=\"#000000\" stroke=\"#000000\" points=\"1148.7823,-372.5675 1141.2368,-365.13 1142.4973,-375.6496 1148.7823,-372.5675\"/>\n</g>\n<!-- 28 -->\n<g id=\"node29\" class=\"node\">\n<title>28</title>\n<polygon fill=\"none\" stroke=\"#000000\" points=\"1339,-357.5 1240,-357.5 1240,-304.5 1339,-304.5 1339,-357.5\"/>\n<text text-anchor=\"middle\" x=\"1289.5\" y=\"-342.3\" font-family=\"Helvetica,sans-Serif\" font-size=\"14.00\" fill=\"#000000\">gini = 0.0</text>\n<text text-anchor=\"middle\" x=\"1289.5\" y=\"-327.3\" font-family=\"Helvetica,sans-Serif\" font-size=\"14.00\" fill=\"#000000\">samples = 8</text>\n<text text-anchor=\"middle\" x=\"1289.5\" y=\"-312.3\" font-family=\"Helvetica,sans-Serif\" font-size=\"14.00\" fill=\"#000000\">value = [8, 0]</text>\n</g>\n<!-- 24&#45;&gt;28 -->\n<g id=\"edge28\" class=\"edge\">\n<title>24&#45;&gt;28</title>\n<path fill=\"none\" stroke=\"#000000\" d=\"M1212.8279,-400.9465C1225.6263,-389.2707 1239.933,-376.219 1252.6901,-364.5809\"/>\n<polygon fill=\"#000000\" stroke=\"#000000\" points=\"1255.3769,-366.8675 1260.4057,-357.5422 1250.6591,-361.6961 1255.3769,-366.8675\"/>\n</g>\n<!-- 26 -->\n<g id=\"node27\" class=\"node\">\n<title>26</title>\n<polygon fill=\"none\" stroke=\"#000000\" points=\"1116,-253.5 1017,-253.5 1017,-200.5 1116,-200.5 1116,-253.5\"/>\n<text text-anchor=\"middle\" x=\"1066.5\" y=\"-238.3\" font-family=\"Helvetica,sans-Serif\" font-size=\"14.00\" fill=\"#000000\">gini = 0.0</text>\n<text text-anchor=\"middle\" x=\"1066.5\" y=\"-223.3\" font-family=\"Helvetica,sans-Serif\" font-size=\"14.00\" fill=\"#000000\">samples = 4</text>\n<text text-anchor=\"middle\" x=\"1066.5\" y=\"-208.3\" font-family=\"Helvetica,sans-Serif\" font-size=\"14.00\" fill=\"#000000\">value = [0, 4]</text>\n</g>\n<!-- 25&#45;&gt;26 -->\n<g id=\"edge26\" class=\"edge\">\n<title>25&#45;&gt;26</title>\n<path fill=\"none\" stroke=\"#000000\" d=\"M1105.5086,-296.9465C1099.3657,-285.9316 1092.5399,-273.6922 1086.3373,-262.5703\"/>\n<polygon fill=\"#000000\" stroke=\"#000000\" points=\"1089.2299,-260.5711 1081.3024,-253.5422 1083.1163,-263.9806 1089.2299,-260.5711\"/>\n</g>\n<!-- 27 -->\n<g id=\"node28\" class=\"node\">\n<title>27</title>\n<polygon fill=\"none\" stroke=\"#000000\" points=\"1233,-253.5 1134,-253.5 1134,-200.5 1233,-200.5 1233,-253.5\"/>\n<text text-anchor=\"middle\" x=\"1183.5\" y=\"-238.3\" font-family=\"Helvetica,sans-Serif\" font-size=\"14.00\" fill=\"#000000\">gini = 0.0</text>\n<text text-anchor=\"middle\" x=\"1183.5\" y=\"-223.3\" font-family=\"Helvetica,sans-Serif\" font-size=\"14.00\" fill=\"#000000\">samples = 1</text>\n<text text-anchor=\"middle\" x=\"1183.5\" y=\"-208.3\" font-family=\"Helvetica,sans-Serif\" font-size=\"14.00\" fill=\"#000000\">value = [1, 0]</text>\n</g>\n<!-- 25&#45;&gt;27 -->\n<g id=\"edge27\" class=\"edge\">\n<title>25&#45;&gt;27</title>\n<path fill=\"none\" stroke=\"#000000\" d=\"M1143.8188,-296.9465C1150.0676,-285.9316 1157.0112,-273.6922 1163.3207,-262.5703\"/>\n<polygon fill=\"#000000\" stroke=\"#000000\" points=\"1166.5523,-263.967 1168.4424,-253.5422 1160.4638,-260.513 1166.5523,-263.967\"/>\n</g>\n<!-- 31 -->\n<g id=\"node32\" class=\"node\">\n<title>31</title>\n<polygon fill=\"none\" stroke=\"#000000\" points=\"1499,-461.5 1400,-461.5 1400,-408.5 1499,-408.5 1499,-461.5\"/>\n<text text-anchor=\"middle\" x=\"1449.5\" y=\"-446.3\" font-family=\"Helvetica,sans-Serif\" font-size=\"14.00\" fill=\"#000000\">gini = 0.0</text>\n<text text-anchor=\"middle\" x=\"1449.5\" y=\"-431.3\" font-family=\"Helvetica,sans-Serif\" font-size=\"14.00\" fill=\"#000000\">samples = 3</text>\n<text text-anchor=\"middle\" x=\"1449.5\" y=\"-416.3\" font-family=\"Helvetica,sans-Serif\" font-size=\"14.00\" fill=\"#000000\">value = [0, 3]</text>\n</g>\n<!-- 30&#45;&gt;31 -->\n<g id=\"edge31\" class=\"edge\">\n<title>30&#45;&gt;31</title>\n<path fill=\"none\" stroke=\"#000000\" d=\"M1449.5,-504.9465C1449.5,-494.2621 1449.5,-482.4254 1449.5,-471.5742\"/>\n<polygon fill=\"#000000\" stroke=\"#000000\" points=\"1453.0001,-471.5421 1449.5,-461.5422 1446.0001,-471.5422 1453.0001,-471.5421\"/>\n</g>\n<!-- 32 -->\n<g id=\"node33\" class=\"node\">\n<title>32</title>\n<polygon fill=\"none\" stroke=\"#000000\" points=\"1699.5,-469 1517.5,-469 1517.5,-401 1699.5,-401 1699.5,-469\"/>\n<text text-anchor=\"middle\" x=\"1608.5\" y=\"-453.8\" font-family=\"Helvetica,sans-Serif\" font-size=\"14.00\" fill=\"#000000\">worst concavity &lt;= &#45;0.397</text>\n<text text-anchor=\"middle\" x=\"1608.5\" y=\"-438.8\" font-family=\"Helvetica,sans-Serif\" font-size=\"14.00\" fill=\"#000000\">gini = 0.028</text>\n<text text-anchor=\"middle\" x=\"1608.5\" y=\"-423.8\" font-family=\"Helvetica,sans-Serif\" font-size=\"14.00\" fill=\"#000000\">samples = 140</text>\n<text text-anchor=\"middle\" x=\"1608.5\" y=\"-408.8\" font-family=\"Helvetica,sans-Serif\" font-size=\"14.00\" fill=\"#000000\">value = [138, 2]</text>\n</g>\n<!-- 30&#45;&gt;32 -->\n<g id=\"edge32\" class=\"edge\">\n<title>30&#45;&gt;32</title>\n<path fill=\"none\" stroke=\"#000000\" d=\"M1501.5625,-504.9465C1516.3875,-495.2497 1532.6633,-484.6039 1547.9471,-474.6069\"/>\n<polygon fill=\"#000000\" stroke=\"#000000\" points=\"1549.8676,-477.533 1556.3205,-469.13 1546.0358,-471.6749 1549.8676,-477.533\"/>\n</g>\n<!-- 33 -->\n<g id=\"node34\" class=\"node\">\n<title>33</title>\n<polygon fill=\"none\" stroke=\"#000000\" points=\"1531,-357.5 1432,-357.5 1432,-304.5 1531,-304.5 1531,-357.5\"/>\n<text text-anchor=\"middle\" x=\"1481.5\" y=\"-342.3\" font-family=\"Helvetica,sans-Serif\" font-size=\"14.00\" fill=\"#000000\">gini = 0.0</text>\n<text text-anchor=\"middle\" x=\"1481.5\" y=\"-327.3\" font-family=\"Helvetica,sans-Serif\" font-size=\"14.00\" fill=\"#000000\">samples = 1</text>\n<text text-anchor=\"middle\" x=\"1481.5\" y=\"-312.3\" font-family=\"Helvetica,sans-Serif\" font-size=\"14.00\" fill=\"#000000\">value = [0, 1]</text>\n</g>\n<!-- 32&#45;&gt;33 -->\n<g id=\"edge33\" class=\"edge\">\n<title>32&#45;&gt;33</title>\n<path fill=\"none\" stroke=\"#000000\" d=\"M1566.9155,-400.9465C1552.3885,-389.0504 1536.1173,-375.726 1521.7049,-363.9237\"/>\n<polygon fill=\"#000000\" stroke=\"#000000\" points=\"1523.8665,-361.17 1513.9121,-357.5422 1519.4314,-366.5858 1523.8665,-361.17\"/>\n</g>\n<!-- 34 -->\n<g id=\"node35\" class=\"node\">\n<title>34</title>\n<polygon fill=\"none\" stroke=\"#000000\" points=\"1770,-365 1549,-365 1549,-297 1770,-297 1770,-365\"/>\n<text text-anchor=\"middle\" x=\"1659.5\" y=\"-349.8\" font-family=\"Helvetica,sans-Serif\" font-size=\"14.00\" fill=\"#000000\">fractal dimension error &lt;= 3.448</text>\n<text text-anchor=\"middle\" x=\"1659.5\" y=\"-334.8\" font-family=\"Helvetica,sans-Serif\" font-size=\"14.00\" fill=\"#000000\">gini = 0.014</text>\n<text text-anchor=\"middle\" x=\"1659.5\" y=\"-319.8\" font-family=\"Helvetica,sans-Serif\" font-size=\"14.00\" fill=\"#000000\">samples = 139</text>\n<text text-anchor=\"middle\" x=\"1659.5\" y=\"-304.8\" font-family=\"Helvetica,sans-Serif\" font-size=\"14.00\" fill=\"#000000\">value = [138, 1]</text>\n</g>\n<!-- 32&#45;&gt;34 -->\n<g id=\"edge34\" class=\"edge\">\n<title>32&#45;&gt;34</title>\n<path fill=\"none\" stroke=\"#000000\" d=\"M1625.1993,-400.9465C1629.3821,-392.4169 1633.925,-383.153 1638.2946,-374.2424\"/>\n<polygon fill=\"#000000\" stroke=\"#000000\" points=\"1641.5027,-375.6496 1642.7632,-365.13 1635.2177,-372.5675 1641.5027,-375.6496\"/>\n</g>\n<!-- 35 -->\n<g id=\"node36\" class=\"node\">\n<title>35</title>\n<polygon fill=\"none\" stroke=\"#000000\" points=\"1654.5,-253.5 1538.5,-253.5 1538.5,-200.5 1654.5,-200.5 1654.5,-253.5\"/>\n<text text-anchor=\"middle\" x=\"1596.5\" y=\"-238.3\" font-family=\"Helvetica,sans-Serif\" font-size=\"14.00\" fill=\"#000000\">gini = 0.0</text>\n<text text-anchor=\"middle\" x=\"1596.5\" y=\"-223.3\" font-family=\"Helvetica,sans-Serif\" font-size=\"14.00\" fill=\"#000000\">samples = 138</text>\n<text text-anchor=\"middle\" x=\"1596.5\" y=\"-208.3\" font-family=\"Helvetica,sans-Serif\" font-size=\"14.00\" fill=\"#000000\">value = [138, 0]</text>\n</g>\n<!-- 34&#45;&gt;35 -->\n<g id=\"edge35\" class=\"edge\">\n<title>34&#45;&gt;35</title>\n<path fill=\"none\" stroke=\"#000000\" d=\"M1638.8714,-296.9465C1632.1322,-285.8215 1624.6363,-273.4473 1617.8455,-262.237\"/>\n<polygon fill=\"#000000\" stroke=\"#000000\" points=\"1620.7533,-260.2818 1612.5784,-253.5422 1614.7661,-263.9087 1620.7533,-260.2818\"/>\n</g>\n<!-- 36 -->\n<g id=\"node37\" class=\"node\">\n<title>36</title>\n<polygon fill=\"none\" stroke=\"#000000\" points=\"1772,-253.5 1673,-253.5 1673,-200.5 1772,-200.5 1772,-253.5\"/>\n<text text-anchor=\"middle\" x=\"1722.5\" y=\"-238.3\" font-family=\"Helvetica,sans-Serif\" font-size=\"14.00\" fill=\"#000000\">gini = 0.0</text>\n<text text-anchor=\"middle\" x=\"1722.5\" y=\"-223.3\" font-family=\"Helvetica,sans-Serif\" font-size=\"14.00\" fill=\"#000000\">samples = 1</text>\n<text text-anchor=\"middle\" x=\"1722.5\" y=\"-208.3\" font-family=\"Helvetica,sans-Serif\" font-size=\"14.00\" fill=\"#000000\">value = [0, 1]</text>\n</g>\n<!-- 34&#45;&gt;36 -->\n<g id=\"edge36\" class=\"edge\">\n<title>34&#45;&gt;36</title>\n<path fill=\"none\" stroke=\"#000000\" d=\"M1680.1286,-296.9465C1686.8678,-285.8215 1694.3637,-273.4473 1701.1545,-262.237\"/>\n<polygon fill=\"#000000\" stroke=\"#000000\" points=\"1704.2339,-263.9087 1706.4216,-253.5422 1698.2467,-260.2818 1704.2339,-263.9087\"/>\n</g>\n</g>\n</svg>\n"
          },
          "metadata": {},
          "execution_count": 36
        }
      ]
    },
    {
      "cell_type": "code",
      "source": [
        "importances = pd.DataFrame({'feature':cancer.feature_names,'importance':np.round(\n",
        "clasificador.feature_importances_,4)})\n",
        "importances = importances.sort_values('importance',ascending=False)\n",
        "print(importances)\n"
      ],
      "metadata": {
        "colab": {
          "base_uri": "https://localhost:8080/"
        },
        "id": "fan07GCrn93O",
        "outputId": "94348a7f-486c-4616-8a24-16631ba60c92"
      },
      "execution_count": 37,
      "outputs": [
        {
          "output_type": "stream",
          "name": "stdout",
          "text": [
            "                    feature  importance\n",
            "22          worst perimeter      0.7142\n",
            "7       mean concave points      0.0753\n",
            "1              mean texture      0.0507\n",
            "27     worst concave points      0.0435\n",
            "17     concave points error      0.0388\n",
            "21            worst texture      0.0262\n",
            "24         worst smoothness      0.0133\n",
            "19  fractal dimension error      0.0104\n",
            "26          worst concavity      0.0103\n",
            "25        worst compactness      0.0070\n",
            "2            mean perimeter      0.0053\n",
            "12          perimeter error      0.0033\n",
            "9    mean fractal dimension      0.0016\n",
            "23               worst area      0.0000\n",
            "20             worst radius      0.0000\n",
            "18           symmetry error      0.0000\n",
            "28           worst symmetry      0.0000\n",
            "0               mean radius      0.0000\n",
            "15        compactness error      0.0000\n",
            "16          concavity error      0.0000\n",
            "14         smoothness error      0.0000\n",
            "13               area error      0.0000\n",
            "11            texture error      0.0000\n",
            "10             radius error      0.0000\n",
            "8             mean symmetry      0.0000\n",
            "6            mean concavity      0.0000\n",
            "5          mean compactness      0.0000\n",
            "4           mean smoothness      0.0000\n",
            "3                 mean area      0.0000\n",
            "29  worst fractal dimension      0.0000\n"
          ]
        }
      ]
    },
    {
      "cell_type": "markdown",
      "source": [
        "## MLPClassifier"
      ],
      "metadata": {
        "id": "o0Kt6nLtovXV"
      }
    },
    {
      "cell_type": "code",
      "source": [
        "media =0\n",
        "for i in range(1,10):\n",
        "  clasificador = MLPClassifier()\n",
        "  #prediccion\n",
        "  clasificador.fit(xe,te)\n",
        "  obtenido = clasificador.predict(xt)\n",
        "  media+=accuracy_score(tt,obtenido)\n",
        "  print('\\nclasificacion %.4f' % accuracy_score(tt,obtenido))\n",
        "  print(classification_report(tt,obtenido))\n",
        "  matriz_de_confusion=confusion_matrix(tt,obtenido)\n",
        "  print('Matriz confusion:\\n',matriz_de_confusion)\n",
        "print('\\nMEDIA OBTENIDA :', media/9)"
      ],
      "metadata": {
        "colab": {
          "base_uri": "https://localhost:8080/"
        },
        "id": "8h_mhug1o0vK",
        "outputId": "c9375a02-4559-4c59-b905-73c9ec775437"
      },
      "execution_count": 38,
      "outputs": [
        {
          "output_type": "stream",
          "name": "stderr",
          "text": [
            "/usr/local/lib/python3.7/dist-packages/sklearn/neural_network/_multilayer_perceptron.py:696: ConvergenceWarning: Stochastic Optimizer: Maximum iterations (200) reached and the optimization hasn't converged yet.\n",
            "  ConvergenceWarning,\n"
          ]
        },
        {
          "output_type": "stream",
          "name": "stdout",
          "text": [
            "\n",
            "clasificacion 0.9825\n",
            "              precision    recall  f1-score   support\n",
            "\n",
            "           0       1.00      0.95      0.97        55\n",
            "           1       0.97      1.00      0.99       116\n",
            "\n",
            "    accuracy                           0.98       171\n",
            "   macro avg       0.99      0.97      0.98       171\n",
            "weighted avg       0.98      0.98      0.98       171\n",
            "\n",
            "Matriz confusion:\n",
            " [[ 52   3]\n",
            " [  0 116]]\n"
          ]
        },
        {
          "output_type": "stream",
          "name": "stderr",
          "text": [
            "/usr/local/lib/python3.7/dist-packages/sklearn/neural_network/_multilayer_perceptron.py:696: ConvergenceWarning: Stochastic Optimizer: Maximum iterations (200) reached and the optimization hasn't converged yet.\n",
            "  ConvergenceWarning,\n"
          ]
        },
        {
          "output_type": "stream",
          "name": "stdout",
          "text": [
            "\n",
            "clasificacion 0.9825\n",
            "              precision    recall  f1-score   support\n",
            "\n",
            "           0       1.00      0.95      0.97        55\n",
            "           1       0.97      1.00      0.99       116\n",
            "\n",
            "    accuracy                           0.98       171\n",
            "   macro avg       0.99      0.97      0.98       171\n",
            "weighted avg       0.98      0.98      0.98       171\n",
            "\n",
            "Matriz confusion:\n",
            " [[ 52   3]\n",
            " [  0 116]]\n"
          ]
        },
        {
          "output_type": "stream",
          "name": "stderr",
          "text": [
            "/usr/local/lib/python3.7/dist-packages/sklearn/neural_network/_multilayer_perceptron.py:696: ConvergenceWarning: Stochastic Optimizer: Maximum iterations (200) reached and the optimization hasn't converged yet.\n",
            "  ConvergenceWarning,\n"
          ]
        },
        {
          "output_type": "stream",
          "name": "stdout",
          "text": [
            "\n",
            "clasificacion 0.9825\n",
            "              precision    recall  f1-score   support\n",
            "\n",
            "           0       1.00      0.95      0.97        55\n",
            "           1       0.97      1.00      0.99       116\n",
            "\n",
            "    accuracy                           0.98       171\n",
            "   macro avg       0.99      0.97      0.98       171\n",
            "weighted avg       0.98      0.98      0.98       171\n",
            "\n",
            "Matriz confusion:\n",
            " [[ 52   3]\n",
            " [  0 116]]\n"
          ]
        },
        {
          "output_type": "stream",
          "name": "stderr",
          "text": [
            "/usr/local/lib/python3.7/dist-packages/sklearn/neural_network/_multilayer_perceptron.py:696: ConvergenceWarning: Stochastic Optimizer: Maximum iterations (200) reached and the optimization hasn't converged yet.\n",
            "  ConvergenceWarning,\n"
          ]
        },
        {
          "output_type": "stream",
          "name": "stdout",
          "text": [
            "\n",
            "clasificacion 0.9766\n",
            "              precision    recall  f1-score   support\n",
            "\n",
            "           0       1.00      0.93      0.96        55\n",
            "           1       0.97      1.00      0.98       116\n",
            "\n",
            "    accuracy                           0.98       171\n",
            "   macro avg       0.98      0.96      0.97       171\n",
            "weighted avg       0.98      0.98      0.98       171\n",
            "\n",
            "Matriz confusion:\n",
            " [[ 51   4]\n",
            " [  0 116]]\n"
          ]
        },
        {
          "output_type": "stream",
          "name": "stderr",
          "text": [
            "/usr/local/lib/python3.7/dist-packages/sklearn/neural_network/_multilayer_perceptron.py:696: ConvergenceWarning: Stochastic Optimizer: Maximum iterations (200) reached and the optimization hasn't converged yet.\n",
            "  ConvergenceWarning,\n"
          ]
        },
        {
          "output_type": "stream",
          "name": "stdout",
          "text": [
            "\n",
            "clasificacion 0.9825\n",
            "              precision    recall  f1-score   support\n",
            "\n",
            "           0       1.00      0.95      0.97        55\n",
            "           1       0.97      1.00      0.99       116\n",
            "\n",
            "    accuracy                           0.98       171\n",
            "   macro avg       0.99      0.97      0.98       171\n",
            "weighted avg       0.98      0.98      0.98       171\n",
            "\n",
            "Matriz confusion:\n",
            " [[ 52   3]\n",
            " [  0 116]]\n"
          ]
        },
        {
          "output_type": "stream",
          "name": "stderr",
          "text": [
            "/usr/local/lib/python3.7/dist-packages/sklearn/neural_network/_multilayer_perceptron.py:696: ConvergenceWarning: Stochastic Optimizer: Maximum iterations (200) reached and the optimization hasn't converged yet.\n",
            "  ConvergenceWarning,\n"
          ]
        },
        {
          "output_type": "stream",
          "name": "stdout",
          "text": [
            "\n",
            "clasificacion 0.9708\n",
            "              precision    recall  f1-score   support\n",
            "\n",
            "           0       1.00      0.91      0.95        55\n",
            "           1       0.96      1.00      0.98       116\n",
            "\n",
            "    accuracy                           0.97       171\n",
            "   macro avg       0.98      0.95      0.97       171\n",
            "weighted avg       0.97      0.97      0.97       171\n",
            "\n",
            "Matriz confusion:\n",
            " [[ 50   5]\n",
            " [  0 116]]\n"
          ]
        },
        {
          "output_type": "stream",
          "name": "stderr",
          "text": [
            "/usr/local/lib/python3.7/dist-packages/sklearn/neural_network/_multilayer_perceptron.py:696: ConvergenceWarning: Stochastic Optimizer: Maximum iterations (200) reached and the optimization hasn't converged yet.\n",
            "  ConvergenceWarning,\n"
          ]
        },
        {
          "output_type": "stream",
          "name": "stdout",
          "text": [
            "\n",
            "clasificacion 0.9825\n",
            "              precision    recall  f1-score   support\n",
            "\n",
            "           0       1.00      0.95      0.97        55\n",
            "           1       0.97      1.00      0.99       116\n",
            "\n",
            "    accuracy                           0.98       171\n",
            "   macro avg       0.99      0.97      0.98       171\n",
            "weighted avg       0.98      0.98      0.98       171\n",
            "\n",
            "Matriz confusion:\n",
            " [[ 52   3]\n",
            " [  0 116]]\n"
          ]
        },
        {
          "output_type": "stream",
          "name": "stderr",
          "text": [
            "/usr/local/lib/python3.7/dist-packages/sklearn/neural_network/_multilayer_perceptron.py:696: ConvergenceWarning: Stochastic Optimizer: Maximum iterations (200) reached and the optimization hasn't converged yet.\n",
            "  ConvergenceWarning,\n"
          ]
        },
        {
          "output_type": "stream",
          "name": "stdout",
          "text": [
            "\n",
            "clasificacion 0.9766\n",
            "              precision    recall  f1-score   support\n",
            "\n",
            "           0       1.00      0.93      0.96        55\n",
            "           1       0.97      1.00      0.98       116\n",
            "\n",
            "    accuracy                           0.98       171\n",
            "   macro avg       0.98      0.96      0.97       171\n",
            "weighted avg       0.98      0.98      0.98       171\n",
            "\n",
            "Matriz confusion:\n",
            " [[ 51   4]\n",
            " [  0 116]]\n",
            "\n",
            "clasificacion 0.9766\n",
            "              precision    recall  f1-score   support\n",
            "\n",
            "           0       1.00      0.93      0.96        55\n",
            "           1       0.97      1.00      0.98       116\n",
            "\n",
            "    accuracy                           0.98       171\n",
            "   macro avg       0.98      0.96      0.97       171\n",
            "weighted avg       0.98      0.98      0.98       171\n",
            "\n",
            "Matriz confusion:\n",
            " [[ 51   4]\n",
            " [  0 116]]\n",
            "\n",
            "MEDIA OBTENIDA : 0.9792072774528915\n"
          ]
        },
        {
          "output_type": "stream",
          "name": "stderr",
          "text": [
            "/usr/local/lib/python3.7/dist-packages/sklearn/neural_network/_multilayer_perceptron.py:696: ConvergenceWarning: Stochastic Optimizer: Maximum iterations (200) reached and the optimization hasn't converged yet.\n",
            "  ConvergenceWarning,\n"
          ]
        }
      ]
    },
    {
      "cell_type": "markdown",
      "source": [
        "# Ejercicio 5"
      ],
      "metadata": {
        "id": "-y01HJFdYKBF"
      }
    },
    {
      "cell_type": "markdown",
      "source": [
        "Sin parametros"
      ],
      "metadata": {
        "id": "5x9d3KQlsl1O"
      }
    },
    {
      "cell_type": "code",
      "source": [
        "for i in range(0,5):\n",
        "  clasificador = MLPClassifier()\n",
        "  #prediccion\n",
        "  clasificador.fit(xe,te)\n",
        "  obtenido = clasificador.predict(xt)\n",
        "  \n",
        "  print('\\nclasificacion %.4f' % accuracy_score(tt,obtenido))\n",
        "  matriz_de_confusion=confusion_matrix(tt,obtenido)\n",
        "  print('Matriz confusion con random_state=%d:\\n'%i ,matriz_de_confusion)"
      ],
      "metadata": {
        "colab": {
          "base_uri": "https://localhost:8080/"
        },
        "id": "Q56n2n7vsn16",
        "outputId": "1abf98df-4c42-4039-a686-49f3de99d1bb"
      },
      "execution_count": 39,
      "outputs": [
        {
          "output_type": "stream",
          "name": "stderr",
          "text": [
            "/usr/local/lib/python3.7/dist-packages/sklearn/neural_network/_multilayer_perceptron.py:696: ConvergenceWarning: Stochastic Optimizer: Maximum iterations (200) reached and the optimization hasn't converged yet.\n",
            "  ConvergenceWarning,\n"
          ]
        },
        {
          "output_type": "stream",
          "name": "stdout",
          "text": [
            "\n",
            "clasificacion 0.9766\n",
            "Matriz confusion con random_state=0:\n",
            " [[ 51   4]\n",
            " [  0 116]]\n"
          ]
        },
        {
          "output_type": "stream",
          "name": "stderr",
          "text": [
            "/usr/local/lib/python3.7/dist-packages/sklearn/neural_network/_multilayer_perceptron.py:696: ConvergenceWarning: Stochastic Optimizer: Maximum iterations (200) reached and the optimization hasn't converged yet.\n",
            "  ConvergenceWarning,\n"
          ]
        },
        {
          "output_type": "stream",
          "name": "stdout",
          "text": [
            "\n",
            "clasificacion 0.9708\n",
            "Matriz confusion con random_state=1:\n",
            " [[ 50   5]\n",
            " [  0 116]]\n"
          ]
        },
        {
          "output_type": "stream",
          "name": "stderr",
          "text": [
            "/usr/local/lib/python3.7/dist-packages/sklearn/neural_network/_multilayer_perceptron.py:696: ConvergenceWarning: Stochastic Optimizer: Maximum iterations (200) reached and the optimization hasn't converged yet.\n",
            "  ConvergenceWarning,\n"
          ]
        },
        {
          "output_type": "stream",
          "name": "stdout",
          "text": [
            "\n",
            "clasificacion 0.9825\n",
            "Matriz confusion con random_state=2:\n",
            " [[ 52   3]\n",
            " [  0 116]]\n"
          ]
        },
        {
          "output_type": "stream",
          "name": "stderr",
          "text": [
            "/usr/local/lib/python3.7/dist-packages/sklearn/neural_network/_multilayer_perceptron.py:696: ConvergenceWarning: Stochastic Optimizer: Maximum iterations (200) reached and the optimization hasn't converged yet.\n",
            "  ConvergenceWarning,\n"
          ]
        },
        {
          "output_type": "stream",
          "name": "stdout",
          "text": [
            "\n",
            "clasificacion 0.9766\n",
            "Matriz confusion con random_state=3:\n",
            " [[ 51   4]\n",
            " [  0 116]]\n",
            "\n",
            "clasificacion 0.9766\n",
            "Matriz confusion con random_state=4:\n",
            " [[ 51   4]\n",
            " [  0 116]]\n"
          ]
        },
        {
          "output_type": "stream",
          "name": "stderr",
          "text": [
            "/usr/local/lib/python3.7/dist-packages/sklearn/neural_network/_multilayer_perceptron.py:696: ConvergenceWarning: Stochastic Optimizer: Maximum iterations (200) reached and the optimization hasn't converged yet.\n",
            "  ConvergenceWarning,\n"
          ]
        }
      ]
    },
    {
      "cell_type": "code",
      "source": [
        "pd.DataFrame(clasificador.loss_curve_).plot()"
      ],
      "metadata": {
        "colab": {
          "base_uri": "https://localhost:8080/",
          "height": 282
        },
        "id": "5AwgpmT9YsrA",
        "outputId": "2702a494-7051-4107-b3ee-e4a0a397c648"
      },
      "execution_count": 40,
      "outputs": [
        {
          "output_type": "execute_result",
          "data": {
            "text/plain": [
              "<matplotlib.axes._subplots.AxesSubplot at 0x7ff9d0914ed0>"
            ]
          },
          "metadata": {},
          "execution_count": 40
        },
        {
          "output_type": "display_data",
          "data": {
            "text/plain": [
              "<Figure size 432x288 with 1 Axes>"
            ],
            "image/png": "[encoded data removed]"
          },
          "metadata": {
            "needs_background": "light"
          }
        }
      ]
    },
    {
      "cell_type": "markdown",
      "source": [
        "Con hidden-layer_sizes=200, max_iter=300,activation='logistic'"
      ],
      "metadata": {
        "id": "2AbKfrlfs9_y"
      }
    },
    {
      "cell_type": "code",
      "source": [
        "for i in range(0,5):\n",
        "  clasificador = MLPClassifier(hidden_layer_sizes=200, max_iter=300,activation='logistic')\n",
        "  #prediccion\n",
        "  clasificador.fit(xe,te)\n",
        "  obtenido = clasificador.predict(xt)\n",
        "  \n",
        "  print('\\nclasificacion %.4f' % accuracy_score(tt,obtenido))\n",
        "  matriz_de_confusion=confusion_matrix(tt,obtenido)\n",
        "  print('Matriz confusion con random_state=%d:\\n'%i ,matriz_de_confusion)"
      ],
      "metadata": {
        "colab": {
          "base_uri": "https://localhost:8080/"
        },
        "id": "wf_t8uhnwDBB",
        "outputId": "554ee60b-91b5-4804-f735-a2b99f249f34"
      },
      "execution_count": 41,
      "outputs": [
        {
          "output_type": "stream",
          "name": "stdout",
          "text": [
            "\n",
            "clasificacion 0.9766\n",
            "Matriz confusion con random_state=0:\n",
            " [[ 51   4]\n",
            " [  0 116]]\n",
            "\n",
            "clasificacion 0.9825\n",
            "Matriz confusion con random_state=1:\n",
            " [[ 52   3]\n",
            " [  0 116]]\n",
            "\n",
            "clasificacion 0.9766\n",
            "Matriz confusion con random_state=2:\n",
            " [[ 51   4]\n",
            " [  0 116]]\n",
            "\n",
            "clasificacion 0.9825\n",
            "Matriz confusion con random_state=3:\n",
            " [[ 52   3]\n",
            " [  0 116]]\n",
            "\n",
            "clasificacion 0.9766\n",
            "Matriz confusion con random_state=4:\n",
            " [[ 51   4]\n",
            " [  0 116]]\n"
          ]
        }
      ]
    },
    {
      "cell_type": "code",
      "source": [
        "pd.DataFrame(clasificador.loss_curve_).plot()"
      ],
      "metadata": {
        "colab": {
          "base_uri": "https://localhost:8080/",
          "height": 282
        },
        "id": "RmQx87FpwYS6",
        "outputId": "8f77cb4e-361b-4bb6-82c8-818a1fa02c9b"
      },
      "execution_count": 42,
      "outputs": [
        {
          "output_type": "execute_result",
          "data": {
            "text/plain": [
              "<matplotlib.axes._subplots.AxesSubplot at 0x7ff9cdfb1810>"
            ]
          },
          "metadata": {},
          "execution_count": 42
        },
        {
          "output_type": "display_data",
          "data": {
            "text/plain": [
              "<Figure size 432x288 with 1 Axes>"
            ],
            "image/png": "[encoded data removed]"
          },
          "metadata": {
            "needs_background": "light"
          }
        }
      ]
    },
    {
      "cell_type": "markdown",
      "source": [
        "Con hidden_layer_sizes=80,actiavion='logistic', solver= 'adam'"
      ],
      "metadata": {
        "id": "jMcQOaopwfPN"
      }
    },
    {
      "cell_type": "code",
      "source": [
        "media =0\n",
        "for i in range(0,5):\n",
        "  clasificador = MLPClassifier(hidden_layer_sizes=80, activation='logistic', solver= 'adam')\n",
        "  #prediccion\n",
        "  clasificador.fit(xe,te)\n",
        "  obtenido = clasificador.predict(xt)\n",
        "  media+= accuracy_score(tt,obtenido)\n",
        "  print('\\nclasificacion %.4f' % accuracy_score(tt,obtenido))\n",
        "  matriz_de_confusion=confusion_matrix(tt,obtenido)\n",
        "  print('Matriz confusion con random_state=%d:\\n'%i ,matriz_de_confusion)\n",
        "print('Media obtenida: ', media/5)"
      ],
      "metadata": {
        "colab": {
          "base_uri": "https://localhost:8080/"
        },
        "id": "OuKU3cNhwmTe",
        "outputId": "0f6003e2-77b4-4862-a969-e6d47aa4797f"
      },
      "execution_count": 43,
      "outputs": [
        {
          "output_type": "stream",
          "name": "stderr",
          "text": [
            "/usr/local/lib/python3.7/dist-packages/sklearn/neural_network/_multilayer_perceptron.py:696: ConvergenceWarning: Stochastic Optimizer: Maximum iterations (200) reached and the optimization hasn't converged yet.\n",
            "  ConvergenceWarning,\n"
          ]
        },
        {
          "output_type": "stream",
          "name": "stdout",
          "text": [
            "\n",
            "clasificacion 0.9766\n",
            "Matriz confusion con random_state=0:\n",
            " [[ 51   4]\n",
            " [  0 116]]\n"
          ]
        },
        {
          "output_type": "stream",
          "name": "stderr",
          "text": [
            "/usr/local/lib/python3.7/dist-packages/sklearn/neural_network/_multilayer_perceptron.py:696: ConvergenceWarning: Stochastic Optimizer: Maximum iterations (200) reached and the optimization hasn't converged yet.\n",
            "  ConvergenceWarning,\n"
          ]
        },
        {
          "output_type": "stream",
          "name": "stdout",
          "text": [
            "\n",
            "clasificacion 0.9708\n",
            "Matriz confusion con random_state=1:\n",
            " [[ 50   5]\n",
            " [  0 116]]\n"
          ]
        },
        {
          "output_type": "stream",
          "name": "stderr",
          "text": [
            "/usr/local/lib/python3.7/dist-packages/sklearn/neural_network/_multilayer_perceptron.py:696: ConvergenceWarning: Stochastic Optimizer: Maximum iterations (200) reached and the optimization hasn't converged yet.\n",
            "  ConvergenceWarning,\n"
          ]
        },
        {
          "output_type": "stream",
          "name": "stdout",
          "text": [
            "\n",
            "clasificacion 0.9766\n",
            "Matriz confusion con random_state=2:\n",
            " [[ 51   4]\n",
            " [  0 116]]\n"
          ]
        },
        {
          "output_type": "stream",
          "name": "stderr",
          "text": [
            "/usr/local/lib/python3.7/dist-packages/sklearn/neural_network/_multilayer_perceptron.py:696: ConvergenceWarning: Stochastic Optimizer: Maximum iterations (200) reached and the optimization hasn't converged yet.\n",
            "  ConvergenceWarning,\n"
          ]
        },
        {
          "output_type": "stream",
          "name": "stdout",
          "text": [
            "\n",
            "clasificacion 0.9766\n",
            "Matriz confusion con random_state=3:\n",
            " [[ 51   4]\n",
            " [  0 116]]\n",
            "\n",
            "clasificacion 0.9766\n",
            "Matriz confusion con random_state=4:\n",
            " [[ 51   4]\n",
            " [  0 116]]\n",
            "Media obtenida:  0.9754385964912281\n"
          ]
        },
        {
          "output_type": "stream",
          "name": "stderr",
          "text": [
            "/usr/local/lib/python3.7/dist-packages/sklearn/neural_network/_multilayer_perceptron.py:696: ConvergenceWarning: Stochastic Optimizer: Maximum iterations (200) reached and the optimization hasn't converged yet.\n",
            "  ConvergenceWarning,\n"
          ]
        }
      ]
    },
    {
      "cell_type": "code",
      "source": [
        "pd.DataFrame(clasificador.loss_curve_).plot()"
      ],
      "metadata": {
        "colab": {
          "base_uri": "https://localhost:8080/",
          "height": 282
        },
        "id": "QLNpYCB5w57s",
        "outputId": "13b62e0e-6fe7-46ba-fd1e-72b8281f0c5a"
      },
      "execution_count": 44,
      "outputs": [
        {
          "output_type": "execute_result",
          "data": {
            "text/plain": [
              "<matplotlib.axes._subplots.AxesSubplot at 0x7ff9cda9a990>"
            ]
          },
          "metadata": {},
          "execution_count": 44
        },
        {
          "output_type": "display_data",
          "data": {
            "text/plain": [
              "<Figure size 432x288 with 1 Axes>"
            ],
            "image/png": "[encoded data removed]"
          },
          "metadata": {
            "needs_background": "light"
          }
        }
      ]
    },
    {
      "cell_type": "markdown",
      "source": [
        "# Ejercicio 6"
      ],
      "metadata": {
        "id": "WidShfiOhSzF"
      }
    },
    {
      "cell_type": "code",
      "source": [
        "RandomForestClassifier().get_params().keys()"
      ],
      "metadata": {
        "colab": {
          "base_uri": "https://localhost:8080/"
        },
        "id": "CesqwQq60iI3",
        "outputId": "d77354f2-e269-4696-cd74-b0e3cec53a81"
      },
      "execution_count": 45,
      "outputs": [
        {
          "output_type": "execute_result",
          "data": {
            "text/plain": [
              "dict_keys(['bootstrap', 'ccp_alpha', 'class_weight', 'criterion', 'max_depth', 'max_features', 'max_leaf_nodes', 'max_samples', 'min_impurity_decrease', 'min_samples_leaf', 'min_samples_split', 'min_weight_fraction_leaf', 'n_estimators', 'n_jobs', 'oob_score', 'random_state', 'verbose', 'warm_start'])"
            ]
          },
          "metadata": {},
          "execution_count": 45
        }
      ]
    },
    {
      "cell_type": "code",
      "source": [
        "media =0\n",
        "for i in range(0,5):\n",
        "  clasificador = RandomForestClassifier();\n",
        "  #prediccion\n",
        "  clasificador.fit(xe,te)\n",
        "  obtenido = clasificador.predict(xt)\n",
        "  media += accuracy_score(tt,obtenido)\n",
        "  print('\\nclasificacion %.4f' % accuracy_score(tt,obtenido))\n",
        "  print(classification_report(tt,obtenido))\n",
        "  matriz_de_confusion=confusion_matrix(tt,obtenido)\n",
        "  print('Matriz confusion :\\n' ,matriz_de_confusion)\n",
        "print(\"\\nMEDIA OBTENIDA : \", media/5)"
      ],
      "metadata": {
        "id": "SQZVRPEv1NXe",
        "colab": {
          "base_uri": "https://localhost:8080/"
        },
        "outputId": "5b571a53-ec63-470b-ac43-f68ddcd567e5"
      },
      "execution_count": 46,
      "outputs": [
        {
          "output_type": "stream",
          "name": "stdout",
          "text": [
            "\n",
            "clasificacion 0.9825\n",
            "              precision    recall  f1-score   support\n",
            "\n",
            "           0       0.96      0.98      0.97        55\n",
            "           1       0.99      0.98      0.99       116\n",
            "\n",
            "    accuracy                           0.98       171\n",
            "   macro avg       0.98      0.98      0.98       171\n",
            "weighted avg       0.98      0.98      0.98       171\n",
            "\n",
            "Matriz confusion :\n",
            " [[ 54   1]\n",
            " [  2 114]]\n",
            "\n",
            "clasificacion 0.9708\n",
            "              precision    recall  f1-score   support\n",
            "\n",
            "           0       0.98      0.93      0.95        55\n",
            "           1       0.97      0.99      0.98       116\n",
            "\n",
            "    accuracy                           0.97       171\n",
            "   macro avg       0.97      0.96      0.97       171\n",
            "weighted avg       0.97      0.97      0.97       171\n",
            "\n",
            "Matriz confusion :\n",
            " [[ 51   4]\n",
            " [  1 115]]\n",
            "\n",
            "clasificacion 0.9883\n",
            "              precision    recall  f1-score   support\n",
            "\n",
            "           0       0.98      0.98      0.98        55\n",
            "           1       0.99      0.99      0.99       116\n",
            "\n",
            "    accuracy                           0.99       171\n",
            "   macro avg       0.99      0.99      0.99       171\n",
            "weighted avg       0.99      0.99      0.99       171\n",
            "\n",
            "Matriz confusion :\n",
            " [[ 54   1]\n",
            " [  1 115]]\n",
            "\n",
            "clasificacion 0.9591\n",
            "              precision    recall  f1-score   support\n",
            "\n",
            "           0       0.96      0.91      0.93        55\n",
            "           1       0.96      0.98      0.97       116\n",
            "\n",
            "    accuracy                           0.96       171\n",
            "   macro avg       0.96      0.95      0.95       171\n",
            "weighted avg       0.96      0.96      0.96       171\n",
            "\n",
            "Matriz confusion :\n",
            " [[ 50   5]\n",
            " [  2 114]]\n",
            "\n",
            "clasificacion 0.9708\n",
            "              precision    recall  f1-score   support\n",
            "\n",
            "           0       0.98      0.93      0.95        55\n",
            "           1       0.97      0.99      0.98       116\n",
            "\n",
            "    accuracy                           0.97       171\n",
            "   macro avg       0.97      0.96      0.97       171\n",
            "weighted avg       0.97      0.97      0.97       171\n",
            "\n",
            "Matriz confusion :\n",
            " [[ 51   4]\n",
            " [  1 115]]\n",
            "\n",
            "MEDIA OBTENIDA :  0.9742690058479532\n"
          ]
        }
      ]
    },
    {
      "cell_type": "code",
      "source": [
        "media =0\n",
        "for i in range(0,5):\n",
        "  clasificador = RandomForestClassifier(n_estimators=10,criterion = \"entropy\", max_depth=2);\n",
        "  #prediccion\n",
        "  clasificador.fit(xe,te)\n",
        "  obtenido = clasificador.predict(xt)\n",
        "  media += accuracy_score(tt,obtenido)\n",
        "  print('\\nclasificacion %.4f' % accuracy_score(tt,obtenido))\n",
        "  print(classification_report(tt,obtenido))\n",
        "  matriz_de_confusion=confusion_matrix(tt,obtenido)\n",
        "  print('Matriz confusion :\\n' ,matriz_de_confusion)\n",
        "print(\"\\nMEDIA OBTENIDA : \", media/5)"
      ],
      "metadata": {
        "id": "eJgHFd2x1W7X",
        "colab": {
          "base_uri": "https://localhost:8080/"
        },
        "outputId": "0f3eebf5-15c6-4619-bffa-570c19f09e4f"
      },
      "execution_count": 47,
      "outputs": [
        {
          "output_type": "stream",
          "name": "stdout",
          "text": [
            "\n",
            "clasificacion 0.9357\n",
            "              precision    recall  f1-score   support\n",
            "\n",
            "           0       0.91      0.89      0.90        55\n",
            "           1       0.95      0.96      0.95       116\n",
            "\n",
            "    accuracy                           0.94       171\n",
            "   macro avg       0.93      0.92      0.93       171\n",
            "weighted avg       0.94      0.94      0.94       171\n",
            "\n",
            "Matriz confusion :\n",
            " [[ 49   6]\n",
            " [  5 111]]\n",
            "\n",
            "clasificacion 0.9357\n",
            "              precision    recall  f1-score   support\n",
            "\n",
            "           0       0.96      0.84      0.89        55\n",
            "           1       0.93      0.98      0.95       116\n",
            "\n",
            "    accuracy                           0.94       171\n",
            "   macro avg       0.94      0.91      0.92       171\n",
            "weighted avg       0.94      0.94      0.93       171\n",
            "\n",
            "Matriz confusion :\n",
            " [[ 46   9]\n",
            " [  2 114]]\n",
            "\n",
            "clasificacion 0.9298\n",
            "              precision    recall  f1-score   support\n",
            "\n",
            "           0       0.94      0.84      0.88        55\n",
            "           1       0.93      0.97      0.95       116\n",
            "\n",
            "    accuracy                           0.93       171\n",
            "   macro avg       0.93      0.91      0.92       171\n",
            "weighted avg       0.93      0.93      0.93       171\n",
            "\n",
            "Matriz confusion :\n",
            " [[ 46   9]\n",
            " [  3 113]]\n",
            "\n",
            "clasificacion 0.9415\n",
            "              precision    recall  f1-score   support\n",
            "\n",
            "           0       0.94      0.87      0.91        55\n",
            "           1       0.94      0.97      0.96       116\n",
            "\n",
            "    accuracy                           0.94       171\n",
            "   macro avg       0.94      0.92      0.93       171\n",
            "weighted avg       0.94      0.94      0.94       171\n",
            "\n",
            "Matriz confusion :\n",
            " [[ 48   7]\n",
            " [  3 113]]\n",
            "\n",
            "clasificacion 0.9532\n",
            "              precision    recall  f1-score   support\n",
            "\n",
            "           0       0.94      0.91      0.93        55\n",
            "           1       0.96      0.97      0.97       116\n",
            "\n",
            "    accuracy                           0.95       171\n",
            "   macro avg       0.95      0.94      0.95       171\n",
            "weighted avg       0.95      0.95      0.95       171\n",
            "\n",
            "Matriz confusion :\n",
            " [[ 50   5]\n",
            " [  3 113]]\n",
            "\n",
            "MEDIA OBTENIDA :  0.9391812865497077\n"
          ]
        }
      ]
    },
    {
      "cell_type": "code",
      "source": [
        "param_N = list(range(1,100,10))\n",
        "param_grid = {'n_estimators':param_N, 'criterion':['gini','entropy'],'max_depth': list(range(1,100))} \n",
        "\n",
        "grid = GridSearchCV(RandomForestClassifier(),param_grid,refit=True,verbose=3,n_jobs=-1)\n",
        "\n",
        "grid.fit(xe,te)\n",
        "print(grid.best_params_)\n",
        "grid_predictions = grid.predict(xt)\n",
        "print(classification_report(tt, grid_predictions)) "
      ],
      "metadata": {
        "colab": {
          "base_uri": "https://localhost:8080/"
        },
        "id": "s8exPp3e32Vc",
        "outputId": "88cd7b88-316e-49c7-f93b-f5174d4c27ee"
      },
      "execution_count": 48,
      "outputs": [
        {
          "output_type": "stream",
          "name": "stdout",
          "text": [
            "Fitting 5 folds for each of 1980 candidates, totalling 9900 fits\n",
            "{'criterion': 'entropy', 'max_depth': 47, 'n_estimators': 31}\n",
            "              precision    recall  f1-score   support\n",
            "\n",
            "           0       0.98      0.91      0.94        55\n",
            "           1       0.96      0.99      0.97       116\n",
            "\n",
            "    accuracy                           0.96       171\n",
            "   macro avg       0.97      0.95      0.96       171\n",
            "weighted avg       0.97      0.96      0.96       171\n",
            "\n"
          ]
        }
      ]
    },
    {
      "cell_type": "code",
      "source": [
        "media =0\n",
        "for i in range(0,5):\n",
        "  clasificador = RandomForestClassifier(criterion= 'entropy', max_depth= 64, n_estimators= 61);\n",
        "  #prediccion\n",
        "  clasificador.fit(xe,te)\n",
        "  obtenido = clasificador.predict(xt)\n",
        "  media += accuracy_score(tt,obtenido)\n",
        "  print('\\nclasificacion %.4f' % accuracy_score(tt,obtenido))\n",
        "  print(classification_report(tt,obtenido))\n",
        "  matriz_de_confusion=confusion_matrix(tt,obtenido)\n",
        "  print('Matriz confusion :\\n' ,matriz_de_confusion)\n",
        "print(\"\\nMEDIA OBTENIDA : \", media/5)"
      ],
      "metadata": {
        "colab": {
          "base_uri": "https://localhost:8080/"
        },
        "id": "pKowUexVvOfy",
        "outputId": "68a5f784-c5d5-4106-da0d-274971b28b42"
      },
      "execution_count": 49,
      "outputs": [
        {
          "output_type": "stream",
          "name": "stdout",
          "text": [
            "\n",
            "clasificacion 0.9708\n",
            "              precision    recall  f1-score   support\n",
            "\n",
            "           0       1.00      0.91      0.95        55\n",
            "           1       0.96      1.00      0.98       116\n",
            "\n",
            "    accuracy                           0.97       171\n",
            "   macro avg       0.98      0.95      0.97       171\n",
            "weighted avg       0.97      0.97      0.97       171\n",
            "\n",
            "Matriz confusion :\n",
            " [[ 50   5]\n",
            " [  0 116]]\n",
            "\n",
            "clasificacion 0.9825\n",
            "              precision    recall  f1-score   support\n",
            "\n",
            "           0       0.98      0.96      0.97        55\n",
            "           1       0.98      0.99      0.99       116\n",
            "\n",
            "    accuracy                           0.98       171\n",
            "   macro avg       0.98      0.98      0.98       171\n",
            "weighted avg       0.98      0.98      0.98       171\n",
            "\n",
            "Matriz confusion :\n",
            " [[ 53   2]\n",
            " [  1 115]]\n",
            "\n",
            "clasificacion 0.9766\n",
            "              precision    recall  f1-score   support\n",
            "\n",
            "           0       1.00      0.93      0.96        55\n",
            "           1       0.97      1.00      0.98       116\n",
            "\n",
            "    accuracy                           0.98       171\n",
            "   macro avg       0.98      0.96      0.97       171\n",
            "weighted avg       0.98      0.98      0.98       171\n",
            "\n",
            "Matriz confusion :\n",
            " [[ 51   4]\n",
            " [  0 116]]\n",
            "\n",
            "clasificacion 0.9708\n",
            "              precision    recall  f1-score   support\n",
            "\n",
            "           0       1.00      0.91      0.95        55\n",
            "           1       0.96      1.00      0.98       116\n",
            "\n",
            "    accuracy                           0.97       171\n",
            "   macro avg       0.98      0.95      0.97       171\n",
            "weighted avg       0.97      0.97      0.97       171\n",
            "\n",
            "Matriz confusion :\n",
            " [[ 50   5]\n",
            " [  0 116]]\n",
            "\n",
            "clasificacion 0.9766\n",
            "              precision    recall  f1-score   support\n",
            "\n",
            "           0       1.00      0.93      0.96        55\n",
            "           1       0.97      1.00      0.98       116\n",
            "\n",
            "    accuracy                           0.98       171\n",
            "   macro avg       0.98      0.96      0.97       171\n",
            "weighted avg       0.98      0.98      0.98       171\n",
            "\n",
            "Matriz confusion :\n",
            " [[ 51   4]\n",
            " [  0 116]]\n",
            "\n",
            "MEDIA OBTENIDA :  0.9754385964912281\n"
          ]
        }
      ]
    }
  ]
}