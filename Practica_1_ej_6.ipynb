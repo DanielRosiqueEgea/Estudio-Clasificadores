{
  "nbformat": 4,
  "nbformat_minor": 0,
  "metadata": {
    "colab": {
      "name": "Practica 1 ej 6.ipynb",
      "provenance": [],
      "authorship_tag": "ABX9TyPgjkvuPwomBnIvEoIMHlWH",
      "include_colab_link": true
    },
    "kernelspec": {
      "name": "python3",
      "display_name": "Python 3"
    },
    "language_info": {
      "name": "python"
    }
  },
  "cells": [
    {
      "cell_type": "markdown",
      "metadata": {
        "id": "view-in-github",
        "colab_type": "text"
      },
      "source": [
        "<a href=\"https://colab.research.google.com/github/Roxoner44/Estudio-Clasificadores/blob/main/Practica_1_ej_6.ipynb\" target=\"_parent\"><img src=\"https://colab.research.google.com/assets/colab-badge.svg\" alt=\"Open In Colab\"/></a>"
      ]
    },
    {
      "cell_type": "code",
      "execution_count": null,
      "metadata": {
        "id": "Rh3pPoycuie8"
      },
      "outputs": [],
      "source": [
        "from sklearn import datasets\n",
        "from sklearn import model_selection\n",
        "from sklearn import preprocessing\n",
        "from sklearn.metrics import classification_report, confusion_matrix \n",
        "from sklearn.metrics import accuracy_score \n",
        "from sklearn.ensemble import RandomForestClassifier\n",
        "from sklearn.model_selection import GridSearchCV\n",
        "from sklearn.model_selection import train_test_split\n",
        "import numpy as np\n",
        "import pandas as pd "
      ]
    },
    {
      "cell_type": "code",
      "source": [
        "cancer = datasets.load_breast_cancer()\n",
        "#Fíjate en las 30 características de entrada\n",
        "print(cancer.feature_names)\n",
        "\n",
        "#Separa entre entrada y salida\n",
        "x=cancer.data\n",
        "t=cancer.target\n",
        "\n",
        "\n",
        "x_norm=preprocessing.scale(x)\n",
        "tam_test = 0.3 # cogemos el 30% para tests\n",
        "semilla = 7 #seed rand\n",
        "xe,xt,te,tt = model_selection.train_test_split(x_norm,t,test_size=tam_test,random_state=semilla)"
      ],
      "metadata": {
        "id": "eWNKK7BCvNvi"
      },
      "execution_count": null,
      "outputs": []
    },
    {
      "cell_type": "code",
      "source": [
        "RandomForestClassifier().get_params().keys()"
      ],
      "metadata": {
        "colab": {
          "base_uri": "https://localhost:8080/"
        },
        "id": "CesqwQq60iI3",
        "outputId": "001a0347-0ebb-4807-99a9-2e08468e1743"
      },
      "execution_count": null,
      "outputs": [
        {
          "output_type": "execute_result",
          "data": {
            "text/plain": [
              "dict_keys(['bootstrap', 'ccp_alpha', 'class_weight', 'criterion', 'max_depth', 'max_features', 'max_leaf_nodes', 'max_samples', 'min_impurity_decrease', 'min_samples_leaf', 'min_samples_split', 'min_weight_fraction_leaf', 'n_estimators', 'n_jobs', 'oob_score', 'random_state', 'verbose', 'warm_start'])"
            ]
          },
          "metadata": {},
          "execution_count": 15
        }
      ]
    },
    {
      "cell_type": "code",
      "source": [
        "media =0\n",
        "for i in range(0,5):\n",
        "  clasificador = RandomForestClassifier();\n",
        "  #prediccion\n",
        "  clasificador.fit(xe,te)\n",
        "  obtenido = clasificador.predict(xt)\n",
        "  media += accuracy_score(tt,obtenido)\n",
        "  print('\\nclasificacion %.4f' % accuracy_score(tt,obtenido))\n",
        "  print(classification_report(tt,obtenido))\n",
        "  matriz_de_confusion=confusion_matrix(tt,obtenido)\n",
        "  print('Matriz confusion :\\n' ,matriz_de_confusion)\n",
        "print(\"\\nMEDIA OBTENIDA : \", media/5)"
      ],
      "metadata": {
        "id": "SQZVRPEv1NXe"
      },
      "execution_count": null,
      "outputs": []
    },
    {
      "cell_type": "code",
      "source": [
        "media =0\n",
        "for i in range(0,5):\n",
        "  clasificador = RandomForestClassifier(n_estimators=10,criterion = \"entropy\", max_depth=2);\n",
        "  #prediccion\n",
        "  clasificador.fit(xe,te)\n",
        "  obtenido = clasificador.predict(xt)\n",
        "  media += accuracy_score(tt,obtenido)\n",
        "  print('\\nclasificacion %.4f' % accuracy_score(tt,obtenido))\n",
        "  print(classification_report(tt,obtenido))\n",
        "  matriz_de_confusion=confusion_matrix(tt,obtenido)\n",
        "  print('Matriz confusion :\\n' ,matriz_de_confusion)\n",
        "print(\"\\nMEDIA OBTENIDA : \", media/5)"
      ],
      "metadata": {
        "id": "eJgHFd2x1W7X"
      },
      "execution_count": null,
      "outputs": []
    },
    {
      "cell_type": "code",
      "source": [
        "param_N = list(range(1,100,10))\n",
        "param_grid = {'n_estimators':param_N, 'criterion':['gini','entropy'],'max_depth': list(range(1,100))} \n",
        "\n",
        "grid = GridSearchCV(RandomForestClassifier(),param_grid,refit=True,verbose=3,n_jobs=-1)\n",
        "\n",
        "grid.fit(xe,te)\n",
        "print(grid.best_params_)\n",
        "grid_predictions = grid.predict(xt)\n",
        "print(classification_report(tt, grid_predictions)) "
      ],
      "metadata": {
        "colab": {
          "base_uri": "https://localhost:8080/"
        },
        "id": "s8exPp3e32Vc",
        "outputId": "6647b1e7-6c71-477a-ea0a-c2062ac74ec5"
      },
      "execution_count": null,
      "outputs": [
        {
          "output_type": "stream",
          "name": "stdout",
          "text": [
            "Fitting 5 folds for each of 1980 candidates, totalling 9900 fits\n",
            "{'criterion': 'entropy', 'max_depth': 75, 'n_estimators': 21}\n",
            "              precision    recall  f1-score   support\n",
            "\n",
            "           0       1.00      0.87      0.93        55\n",
            "           1       0.94      1.00      0.97       116\n",
            "\n",
            "    accuracy                           0.96       171\n",
            "   macro avg       0.97      0.94      0.95       171\n",
            "weighted avg       0.96      0.96      0.96       171\n",
            "\n"
          ]
        }
      ]
    },
    {
      "cell_type": "code",
      "source": [
        "media =0\n",
        "for i in range(0,5):\n",
        "  clasificador = RandomForestClassifier(criterion= 'entropy', max_depth= 53, n_estimators= 21);\n",
        "  #prediccion\n",
        "  clasificador.fit(xe,te)\n",
        "  obtenido = clasificador.predict(xt)\n",
        "  media += accuracy_score(tt,obtenido)\n",
        "  print('\\nclasificacion %.4f' % accuracy_score(tt,obtenido))\n",
        "  print(classification_report(tt,obtenido))\n",
        "  matriz_de_confusion=confusion_matrix(tt,obtenido)\n",
        "  print('Matriz confusion :\\n' ,matriz_de_confusion)\n",
        "print(\"\\nMEDIA OBTENIDA : \", media/5)"
      ],
      "metadata": {
        "colab": {
          "base_uri": "https://localhost:8080/"
        },
        "id": "pKowUexVvOfy",
        "outputId": "7a2a7191-b7e7-44b9-f8ea-85f51b733fb9"
      },
      "execution_count": null,
      "outputs": [
        {
          "output_type": "stream",
          "name": "stdout",
          "text": [
            "\n",
            "clasificacion 0.9708\n",
            "              precision    recall  f1-score   support\n",
            "\n",
            "           0       0.96      0.95      0.95        55\n",
            "           1       0.97      0.98      0.98       116\n",
            "\n",
            "    accuracy                           0.97       171\n",
            "   macro avg       0.97      0.96      0.97       171\n",
            "weighted avg       0.97      0.97      0.97       171\n",
            "\n",
            "Matriz confusion :\n",
            " [[ 52   3]\n",
            " [  2 114]]\n",
            "\n",
            "clasificacion 0.9766\n",
            "              precision    recall  f1-score   support\n",
            "\n",
            "           0       0.98      0.95      0.96        55\n",
            "           1       0.97      0.99      0.98       116\n",
            "\n",
            "    accuracy                           0.98       171\n",
            "   macro avg       0.98      0.97      0.97       171\n",
            "weighted avg       0.98      0.98      0.98       171\n",
            "\n",
            "Matriz confusion :\n",
            " [[ 52   3]\n",
            " [  1 115]]\n",
            "\n",
            "clasificacion 0.9649\n",
            "              precision    recall  f1-score   support\n",
            "\n",
            "           0       1.00      0.89      0.94        55\n",
            "           1       0.95      1.00      0.97       116\n",
            "\n",
            "    accuracy                           0.96       171\n",
            "   macro avg       0.98      0.95      0.96       171\n",
            "weighted avg       0.97      0.96      0.96       171\n",
            "\n",
            "Matriz confusion :\n",
            " [[ 49   6]\n",
            " [  0 116]]\n",
            "\n",
            "clasificacion 0.9591\n",
            "              precision    recall  f1-score   support\n",
            "\n",
            "           0       1.00      0.87      0.93        55\n",
            "           1       0.94      1.00      0.97       116\n",
            "\n",
            "    accuracy                           0.96       171\n",
            "   macro avg       0.97      0.94      0.95       171\n",
            "weighted avg       0.96      0.96      0.96       171\n",
            "\n",
            "Matriz confusion :\n",
            " [[ 48   7]\n",
            " [  0 116]]\n",
            "\n",
            "clasificacion 0.9649\n",
            "              precision    recall  f1-score   support\n",
            "\n",
            "           0       1.00      0.89      0.94        55\n",
            "           1       0.95      1.00      0.97       116\n",
            "\n",
            "    accuracy                           0.96       171\n",
            "   macro avg       0.98      0.95      0.96       171\n",
            "weighted avg       0.97      0.96      0.96       171\n",
            "\n",
            "Matriz confusion :\n",
            " [[ 49   6]\n",
            " [  0 116]]\n",
            "\n",
            "MEDIA OBTENIDA :  0.967251461988304\n"
          ]
        }
      ]
    }
  ]
}